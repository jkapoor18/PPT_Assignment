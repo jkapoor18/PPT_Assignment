{
 "cells": [
  {
   "cell_type": "markdown",
   "id": "52c0b469",
   "metadata": {},
   "source": [
    "## Q1: Merge Intervals\n",
    "\n",
    "### Given an array of `intervals` where `intervals[i] = [starti, endi]`, merge all overlapping intervals, and return *an array of the non-overlapping intervals that cover all the intervals in the input*.\n",
    "\n",
    "### Example 1:\n",
    "\n",
    "\n",
    "- Input: intervals = [[1,3],[2,6],[8,10],[15,18]]\n",
    "- Output: [[1,6],[8,10],[15,18]]\n",
    "- Explanation: Since intervals [1,3] and [2,6] overlap, merge them into [1,6].\n",
    "\n",
    "\n",
    "### Example 2:\n",
    "\n",
    "- Input: intervals = [[1,4],[4,5]]\n",
    "- Output: [[1,5]]\n",
    "- Explanation: Intervals [1,4] and [4,5] are considered overlapping.\n"
   ]
  },
  {
   "cell_type": "code",
   "execution_count": 3,
   "id": "6785e8be",
   "metadata": {},
   "outputs": [
    {
     "data": {
      "text/plain": [
       "[[1, 6], [8, 10], [15, 18]]"
      ]
     },
     "execution_count": 3,
     "metadata": {},
     "output_type": "execute_result"
    }
   ],
   "source": [
    "def merge_intervals(arr):\n",
    "    arr.sort(key = lambda x:x[0])\n",
    "    non_overlapping = []\n",
    "    for interval in arr:\n",
    "        if not non_overlapping or non_overlapping[-1][1] < interval[0]:\n",
    "            non_overlapping.append(interval)\n",
    "        else:\n",
    "            non_overlapping[-1][1] = max(non_overlapping[-1][1],interval[1])\n",
    "    return non_overlapping\n",
    "merge_intervals([[1,3],[2,6],[8,10],[15,18]])"
   ]
  },
  {
   "cell_type": "markdown",
   "id": "b0acfb12",
   "metadata": {},
   "source": [
    "## Q2 : Sort Colors\n",
    "\n",
    "### Given an array `nums` with `n` objects colored red, white, or blue, sort them **[in-place](https://en.wikipedia.org/wiki/In-place_algorithm)** so that objects of the same color are adjacent, with the colors in the order red, white, and blue. We will use the integers `0`, `1`, and `2` to represent the color red, white, and blue, respectively.\n",
    "\n",
    "### You must solve this problem without using the library's sort function.\n",
    "\n",
    "### - Example 1:\n",
    "\n",
    "- Input: nums = [2,0,2,1,1,0]\n",
    "- Output: [0,0,1,1,2,2]\n",
    "\n",
    "\n",
    "### - Example 2:\n",
    "\n",
    "- Input: nums = [2,0,1]\n",
    "- Output: [0,1,2]\n"
   ]
  },
  {
   "cell_type": "code",
   "execution_count": 4,
   "id": "c8dd3542",
   "metadata": {},
   "outputs": [],
   "source": [
    "def sort_colors(arr,p,q):\n",
    "    if p<q:\n",
    "        mid = partition(arr,p,q)\n",
    "        sort_colors(arr,p,mid-1)\n",
    "        sort_colors(arr,mid+1,q)\n",
    "    return arr\n",
    "\n",
    "def partition(arr,p,q):\n",
    "    i = p\n",
    "    pivot = arr[p]\n",
    "    for j in range(i+1,q+1):\n",
    "        if arr[j] <= pivot:\n",
    "            i +=1\n",
    "            ## swap arr[i] and arr[j]\n",
    "            arr[i],arr[j] = arr[j],arr[i]\n",
    "    ## swap arr[i] and arr[p]\n",
    "    arr[i],arr[p] = arr[p],arr[i]\n",
    "    return i"
   ]
  },
  {
   "cell_type": "code",
   "execution_count": 5,
   "id": "c1111d60",
   "metadata": {},
   "outputs": [
    {
     "data": {
      "text/plain": [
       "[0, 0, 1, 1, 2, 2]"
      ]
     },
     "execution_count": 5,
     "metadata": {},
     "output_type": "execute_result"
    }
   ],
   "source": [
    "arr = [2,0,2,1,1,0]\n",
    "p = 0\n",
    "q = len(arr)-1\n",
    "sort_colors(arr,p,q)"
   ]
  },
  {
   "cell_type": "markdown",
   "id": "3f336b86",
   "metadata": {},
   "source": [
    "## Q3 : First Bad Version Solution\n",
    "\n",
    "### You are a product manager and currently leading a team to develop a new product. Unfortunately, the latest version of your product fails the quality check. Since each version is developed based on the previous version, all the versions after a bad version are also bad.\n",
    "\n",
    "### Suppose you have `n` versions `[1, 2, ..., n]` and you want to find out the first bad one, which causes all the following ones to be bad.\n",
    "\n",
    "### You are given an API `bool isBadVersion(version)` which returns whether `version` is bad. Implement a function to find the first bad version. You should minimize the number of calls to the API.\n",
    "\n",
    "### - Example 1 :\n",
    "\n",
    "- Input: n = 5, bad = 4\n",
    "- Output: 4\n",
    "- Explanation:\n",
    "- call isBadVersion(3) -> false\n",
    "- call isBadVersion(5) -> true\n",
    "- call isBadVersion(4) -> true\n",
    "- Then 4 is the first bad version.\n",
    "\n",
    "### - Example 2 :\n",
    "\n",
    "- Input: n = 1, bad = 1\n",
    "- Output: 1\n"
   ]
  },
  {
   "cell_type": "code",
   "execution_count": 11,
   "id": "af114d7e",
   "metadata": {},
   "outputs": [
    {
     "data": {
      "text/plain": [
       "4"
      ]
     },
     "execution_count": 11,
     "metadata": {},
     "output_type": "execute_result"
    }
   ],
   "source": [
    "def firstBadVersion(n):\n",
    "    start = 1\n",
    "    end = n\n",
    "    while(start < end):\n",
    "        mid = start + (end-start)//2\n",
    "        if isBadVersion(mid):\n",
    "            end = mid\n",
    "        else:\n",
    "            start = mid+1\n",
    "    return start\n",
    "\n",
    "def isBadVersion(version):\n",
    "    if version >= bad:\n",
    "        return True\n",
    "    return False\n",
    "\n",
    "## Driver code\n",
    "n = 5\n",
    "bad = 4\n",
    "firstBadVersion(n)"
   ]
  },
  {
   "cell_type": "code",
   "execution_count": 12,
   "id": "a1f03c57",
   "metadata": {},
   "outputs": [
    {
     "data": {
      "text/plain": [
       "1"
      ]
     },
     "execution_count": 12,
     "metadata": {},
     "output_type": "execute_result"
    }
   ],
   "source": [
    "n = 1\n",
    "bad = 1\n",
    "firstBadVersion(n)"
   ]
  },
  {
   "cell_type": "markdown",
   "id": "ebb8f8b4",
   "metadata": {},
   "source": [
    "## Q4: Maximum Gap\n",
    "\n",
    "### Given an integer array `nums`, return *the maximum difference between two successive elements in its sorted form*. If the array contains less than two elements, return `0`.You must write an algorithm that runs in linear time and uses linear extra space.\n",
    "\n",
    "### - Example 1:\n",
    "\n",
    "- Input: nums = [3,6,9,1]\n",
    "- Output: 3\n",
    "- Explanation: The sorted form of the array is [1,3,6,9], either (3,6) or (6,9) has the maximum difference 3.\n",
    "\n",
    "\n",
    "### - Example 2:\n",
    "\n",
    "- Input: nums = [10]\n",
    "- Output: 0\n",
    "- Explanation: The array contains less than 2 elements, therefore return 0.\n"
   ]
  },
  {
   "cell_type": "code",
   "execution_count": 8,
   "id": "7b2ca6e3",
   "metadata": {},
   "outputs": [],
   "source": [
    "def maximum_gap(arr):\n",
    "    if len(arr) == 1:\n",
    "        return 0\n",
    "    sorted(arr)\n",
    "    max_dif = 0\n",
    "    for i in range(len(arr)-1):\n",
    "        dif = arr[i+1] - arr[i]\n",
    "        if dif > max_dif:\n",
    "            max_dif = dif\n",
    "    return max_dif"
   ]
  },
  {
   "cell_type": "code",
   "execution_count": 9,
   "id": "7d7f4962",
   "metadata": {},
   "outputs": [
    {
     "data": {
      "text/plain": [
       "3"
      ]
     },
     "execution_count": 9,
     "metadata": {},
     "output_type": "execute_result"
    }
   ],
   "source": [
    "maximum_gap([1,3,6,9])"
   ]
  },
  {
   "cell_type": "markdown",
   "id": "97d446f9",
   "metadata": {},
   "source": [
    "## Q5 : Contains Duplicate\n",
    "\n",
    "### Given an integer array `nums`, return `true` if any value appears **at least twice** in the array, and return `false` if every element is distinct.\n",
    "\n",
    "### - Example 1:\n",
    "\n",
    "- Input: nums = [1,2,3,1]\n",
    "- Output: true\n",
    "\n",
    "\n",
    "### - Example 2:\n",
    "\n",
    "- Input: nums = [1,2,3,4]\n",
    "- Output: false\n"
   ]
  },
  {
   "cell_type": "code",
   "execution_count": 16,
   "id": "7d6c949e",
   "metadata": {},
   "outputs": [],
   "source": [
    "def contains_duplicates(arr):\n",
    "    arr.sort()\n",
    "    for i in range(len(arr)-1):\n",
    "        if arr[i] == arr[i+1]:\n",
    "            return True\n",
    "    return False\n"
   ]
  },
  {
   "cell_type": "code",
   "execution_count": 15,
   "id": "692207cd",
   "metadata": {},
   "outputs": [
    {
     "name": "stdout",
     "output_type": "stream",
     "text": [
      "[1, 1, 2, 3]\n"
     ]
    },
    {
     "data": {
      "text/plain": [
       "True"
      ]
     },
     "execution_count": 15,
     "metadata": {},
     "output_type": "execute_result"
    }
   ],
   "source": [
    "contains_duplicates([1,2,3,1])\n"
   ]
  },
  {
   "cell_type": "markdown",
   "id": "506e0014",
   "metadata": {},
   "source": [
    "## Q6 : Minimum Number of Arrows to Burst Balloons\n",
    "\n",
    "### There are some spherical balloons taped onto a flat wall that represents the XY-plane. The balloons are represented as a 2D integer array `points` where `points[i] = [xstart, xend]` denotes a balloon whose **horizontal diameter** stretches between `xstart` and `xend`. You do not know the exact y-coordinates of the balloons.\n",
    "\n",
    "### Arrows can be shot up **directly vertically** (in the positive y-direction) from different points along the x-axis. A balloon with `xstart` and `xend` is **burst** by an arrow shot at `x` if `xstart <= x <= xend`. There is **no limit** to the number of arrows that can be shot. A shot arrow keeps traveling up infinitely, bursting any balloons in its path.\n",
    "\n",
    "### Given the array `points`, return *the **minimum** number of arrows that must be shot to burst all balloons*.\n",
    "\n",
    "### - Example 1:\n",
    "\n",
    "- Input: points = [[10,16],[2,8],[1,6],[7,12]]\n",
    "- Output: 2\n",
    "- Explanation: The balloons can be burst by 2 arrows:\n",
    "- Shoot an arrow at x = 6, bursting the balloons [2,8] and [1,6].\n",
    "- Shoot an arrow at x = 11, bursting the balloons [10,16] and [7,12].\n",
    "\n",
    "\n",
    "### - Example 2:\n",
    "\n",
    "- Input: points = [[1,2],[3,4],[5,6],[7,8]]\n",
    "- Output: 4\n",
    "- Explanation: One arrow needs to be shot for each balloon for a total of 4 arrows.\n",
    "\n",
    "\n",
    "### - Example 3:\n",
    "\n",
    "- Input: points = [[1,2],[2,3],[3,4],[4,5]]\n",
    "- Output: 2\n",
    "- Explanation: The balloons can be burst by 2 arrows:\n",
    "- Shoot an arrow at x = 2, bursting the balloons [1,2] and [2,3].\n",
    "- Shoot an arrow at x = 4, bursting the balloons [3,4] and [4,5].\n"
   ]
  },
  {
   "cell_type": "code",
   "execution_count": 21,
   "id": "3f0a6460",
   "metadata": {},
   "outputs": [
    {
     "name": "stdout",
     "output_type": "stream",
     "text": [
      "minimum no of arrows to burst balloons is :  2\n"
     ]
    }
   ],
   "source": [
    "def min_no_of_balloons(arr):\n",
    "    arr.sort(key = lambda x:x[1])\n",
    "    temp = []\n",
    "    count = 0\n",
    "    if len(arr) == 0:\n",
    "        return count\n",
    "    for interval in arr:\n",
    "        if not temp:\n",
    "            temp.append(interval)\n",
    "            count +=1\n",
    "        elif temp[-1][1] >= interval[0]:\n",
    "            pass\n",
    "        else:\n",
    "            temp.append(interval)\n",
    "            count +=1\n",
    "    return count\n",
    "\n",
    "## Driver code\n",
    "arr = [[10,16],[2,8],[1,6],[7,12]]\n",
    "result = min_no_of_balloons(arr)\n",
    "print(\"minimum no of arrows to burst balloons is : \",result)   "
   ]
  },
  {
   "cell_type": "code",
   "execution_count": 23,
   "id": "0bec429f",
   "metadata": {},
   "outputs": [
    {
     "data": {
      "text/plain": [
       "1"
      ]
     },
     "execution_count": 23,
     "metadata": {},
     "output_type": "execute_result"
    }
   ],
   "source": [
    "arr = [[1,10],[2,14],[4,9],[7,8]]\n",
    "min_no_of_balloons(arr)"
   ]
  },
  {
   "cell_type": "code",
   "execution_count": 25,
   "id": "ee159876",
   "metadata": {},
   "outputs": [
    {
     "data": {
      "text/plain": [
       "5"
      ]
     },
     "execution_count": 25,
     "metadata": {},
     "output_type": "execute_result"
    }
   ],
   "source": [
    "arr = [[1,2],[3,4],[5,6],[7,8],[9,10]]\n",
    "min_no_of_balloons(arr)"
   ]
  },
  {
   "cell_type": "markdown",
   "id": "51b96f73",
   "metadata": {},
   "source": [
    "## Q7 : Longest Increasing Subsequence\n",
    "\n",
    "### Given an integer array `nums`, return *the length of the longest **strictly increasing***\n",
    "- subsequence\n",
    "\n",
    "### - Example 1:\n",
    "\n",
    "- Input: nums = [10,9,2,5,3,7,101,18]\n",
    "- Output: 4\n",
    "- Explanation: The longest increasing subsequence is [2,3,7,101], therefore the length is 4.\n",
    "\n",
    "\n",
    "### - Example 2:\n",
    "\n",
    "- Input: nums = [0,1,0,3,2,3]\n",
    "- Output: 4\n"
   ]
  },
  {
   "cell_type": "code",
   "execution_count": 36,
   "id": "0290e691",
   "metadata": {},
   "outputs": [
    {
     "name": "stdout",
     "output_type": "stream",
     "text": [
      "Length of lis is  4\n"
     ]
    }
   ],
   "source": [
    "global maximum\n",
    " \n",
    "def _lis(arr, n ):\n",
    " \n",
    "    # to allow the access of global variable\n",
    "    global maximum\n",
    " \n",
    "    # Base Case\n",
    "    if n == 1 :\n",
    "        return 1\n",
    " \n",
    "    # maxEndingHere is the length of LIS ending with arr[n-1]\n",
    "    maxEndingHere = 1\n",
    " \n",
    "    \"\"\"Recursively get all LIS ending with arr[0], arr[1]..arr[n-2]\n",
    "       IF arr[n-1] is smaller than arr[n-1], and max ending with\n",
    "       arr[n-1] needs to be updated, then update it\"\"\"\n",
    "    for i in range(1, n):\n",
    "        res = _lis(arr, i)\n",
    "        if arr[i-1] < arr[n-1] and res + 1 > maxEndingHere:\n",
    "            maxEndingHere = res + 1\n",
    " \n",
    "    # Compare maxEndingHere with overall maximum. And\n",
    "    # update the overall maximum if needed\n",
    "    maximum = max(maximum, maxEndingHere)\n",
    " \n",
    "    return maxEndingHere\n",
    " \n",
    "def lis(arr):\n",
    " \n",
    "    # to allow the access of global variable\n",
    "    global maximum\n",
    " \n",
    "    # length of arr\n",
    "    n = len(arr)\n",
    " \n",
    "    # maximum variable holds the result\n",
    "    maximum = 1\n",
    " \n",
    "    # The function _lis() stores its result in maximum\n",
    "    _lis(arr, n)\n",
    " \n",
    "    return maximum\n",
    " \n",
    "# Driver program to test the above function\n",
    "arr = [10,9,2,5,3,7,101,18]\n",
    "n = len(arr)\n",
    "print (\"Length of lis is \", lis(arr))"
   ]
  },
  {
   "cell_type": "markdown",
   "id": "bb4e88ff",
   "metadata": {},
   "source": [
    "## Q8 : 132 Pattern\n",
    "\n",
    "### Given an array of `n` integers `nums`, a **132 pattern** is a subsequence of three integers `nums[i]`, `nums[j]` and `nums[k]` such that `i < j < k` and `nums[i] < nums[k] < nums[j]`.\n",
    "\n",
    "### Return `true` *if there is a **132 pattern** in* `nums`*, otherwise, return* `false`*.*\n",
    "\n",
    "### - Example 1:\n",
    "\n",
    "- Input: nums = [1,2,3,4]\n",
    "- Output: false\n",
    "- Explanation: There is no 132 pattern in the sequence.\n",
    "\n",
    "\n",
    "### - Example 2:\n",
    "\n",
    "- Input: nums = [3,1,4,2]\n",
    "- Output: true\n",
    "- Explanation: There is a 132 pattern in the sequence: [1, 4, 2].\n"
   ]
  },
  {
   "cell_type": "code",
   "execution_count": 29,
   "id": "b3f4d661",
   "metadata": {},
   "outputs": [
    {
     "name": "stdout",
     "output_type": "stream",
     "text": [
      "False\n"
     ]
    }
   ],
   "source": [
    "def pattern_132(arr):\n",
    "    for i in range(len(arr)-2):\n",
    "        j = i+1\n",
    "        k = i+2\n",
    "        if arr[i] < arr[k] and arr[k] < arr[j]:\n",
    "            return True\n",
    "    return False\n",
    "\n",
    "## Driver code\n",
    "arr = [1,2,3,4]\n",
    "result = pattern_132(arr)\n",
    "print(result)"
   ]
  },
  {
   "cell_type": "code",
   "execution_count": 30,
   "id": "6a7dccb9",
   "metadata": {},
   "outputs": [
    {
     "name": "stdout",
     "output_type": "stream",
     "text": [
      "True\n"
     ]
    }
   ],
   "source": [
    "arr = [3,1,4,2]\n",
    "result = pattern_132(arr)\n",
    "print(result)"
   ]
  }
 ],
 "metadata": {
  "kernelspec": {
   "display_name": "Python 3 (ipykernel)",
   "language": "python",
   "name": "python3"
  },
  "language_info": {
   "codemirror_mode": {
    "name": "ipython",
    "version": 3
   },
   "file_extension": ".py",
   "mimetype": "text/x-python",
   "name": "python",
   "nbconvert_exporter": "python",
   "pygments_lexer": "ipython3",
   "version": "3.10.9"
  }
 },
 "nbformat": 4,
 "nbformat_minor": 5
}
