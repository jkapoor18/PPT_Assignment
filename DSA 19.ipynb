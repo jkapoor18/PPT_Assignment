{
 "cells": [
  {
   "cell_type": "markdown",
   "id": "275fa456",
   "metadata": {},
   "source": [
    "## Q1 : Merge k Sorted Lists\n",
    "\n",
    "### You are given an array of `k` linked-lists `lists`, each linked-list is sorted in ascending order.\n",
    "\n",
    "### Merge all the linked-lists into one sorted linked-list and return it.\n",
    "\n",
    "### - Example 1:\n",
    "\n",
    "- Input: lists = [[1,4,5],[1,3,4],[2,6]]\n",
    "- Output: [1,1,2,3,4,4,5,6]\n",
    "- Explanation: The linked-lists are:\n",
    "[\n",
    "  1->4->5,\n",
    "  1->3->4,\n",
    "  2->6\n",
    "]\n",
    "- merging them into one sorted list:\n",
    "1->1->2->3->4->4->5->6\n",
    "\n"
   ]
  },
  {
   "cell_type": "code",
   "execution_count": 5,
   "id": "cade7d02",
   "metadata": {},
   "outputs": [
    {
     "name": "stdout",
     "output_type": "stream",
     "text": [
      "1  2  3  4  4  5  6  "
     ]
    }
   ],
   "source": [
    "## Node class\n",
    "class Node:\n",
    "    def __init__(self,data):\n",
    "        self.data = data\n",
    "        self.next = None\n",
    "\n",
    "## Linked list class\n",
    "class LinkedList:\n",
    "    def __init__(self):\n",
    "        self.head = None\n",
    "    \n",
    "    def push(self,data):\n",
    "        ## creating a node\n",
    "        new_node = Node(data)\n",
    "        if not self.head:\n",
    "            self.head = new_node\n",
    "            return\n",
    "        temp = self.head\n",
    "        while(temp.next):\n",
    "            temp = temp.next\n",
    "        temp.next = new_node\n",
    "    def printing(self):\n",
    "        temp = self.head\n",
    "        while(temp != None):\n",
    "            print(str(temp.data)+\" \",end = \" \")\n",
    "            temp = temp.next\n",
    "\n",
    "arr = [[1,4,5],[1,3,4],[2,6]]\n",
    "linked_list_arr = []\n",
    "for i in arr:\n",
    "    ll = LinkedList()\n",
    "    for j in i:\n",
    "        ll.push(j)\n",
    "    linked_list_arr.append(ll)\n",
    "result = LinkedList()\n",
    "for i in range(len(linked_list_arr)-1):\n",
    "    result.head = merge_two_linked_list(linked_list_arr[i].head,linked_list_arr[i+1].head)\n",
    "result.printing()"
   ]
  },
  {
   "cell_type": "code",
   "execution_count": 1,
   "id": "4d78395c",
   "metadata": {},
   "outputs": [],
   "source": [
    "def merge_two_linked_list(head1,head2):\n",
    "    temp = None\n",
    "    \n",
    "    ## llist1 is empty\n",
    "    if not head1:\n",
    "        return head2\n",
    "    \n",
    "    ## llist2 is empty\n",
    "    if not head2:\n",
    "        return head1\n",
    "    \n",
    "    if head1.data <= head2.data:\n",
    "        temp = head1\n",
    "        ## recursive fuction calling \n",
    "        temp.next = merge_two_linked_list(head1.next,head2)\n",
    "    else:\n",
    "        temp = head2\n",
    "        ## recursive function calling\n",
    "        temp.next = merge_two_linked_list(head1,head2.next)\n",
    "    return temp"
   ]
  },
  {
   "cell_type": "markdown",
   "id": "1852dd03",
   "metadata": {},
   "source": [
    "## Q2 : Count of Smaller Numbers After Self\n",
    "### Given an integer array `nums`, return *an integer array* `counts` *where* `counts[i]` *is the number of smaller elements to the right of* `nums[i]`.\n",
    "\n",
    "### - Example 1:\n",
    "\n",
    "- Input: nums = [5,2,6,1]\n",
    "- Output: [2,1,1,0]\n",
    "- Explanation:\n",
    "- To the right of 5 there are2 smaller elements (2 and 1).\n",
    "- To the right of 2 there is only1 smaller element (1).\n",
    "- To the right of 6 there is1 smaller element (1).\n",
    "- To the right of 1 there is0 smaller element.\n",
    "\n",
    "\n",
    "### - Example 2:\n",
    "\n",
    "- Input: nums = [-1]\n",
    "- Output: [0]\n"
   ]
  },
  {
   "cell_type": "code",
   "execution_count": 8,
   "id": "ad308b01",
   "metadata": {},
   "outputs": [
    {
     "data": {
      "text/plain": [
       "[2, 1, 1, 0]"
      ]
     },
     "execution_count": 8,
     "metadata": {},
     "output_type": "execute_result"
    }
   ],
   "source": [
    "def count_of_smaller_numbers_after_self(arr):\n",
    "    result = []\n",
    "    if len(arr) == 1:\n",
    "        result.append(0)\n",
    "        return result\n",
    "    \n",
    "    for i in range(len(arr)-1):\n",
    "        count = 0\n",
    "        for j in range(i+1,len(arr)):\n",
    "            if arr[i] > arr[j]:\n",
    "                count +=1\n",
    "            \n",
    "        result.append(count)\n",
    "    result.append(0)\n",
    "    return result\n",
    "\n",
    "## Driver code \n",
    "arr = [5,2,6,1]\n",
    "count_of_smaller_numbers_after_self(arr)"
   ]
  },
  {
   "cell_type": "markdown",
   "id": "db12597a",
   "metadata": {},
   "source": [
    "## Q3 : Sort an Array\n",
    "\n",
    "### Given an array of integers `nums`, sort the array in ascending order and return it. You must solve the problem **without using any built-in** functions in `O(nlog(n))` time complexity and with the smallest space complexity possible.\n",
    "\n",
    "### - Example 1:\n",
    "\n",
    "- Input: nums = [5,2,3,1]\n",
    "- Output: [1,2,3,5]\n",
    "- Explanation: After sorting the array, the positions of some numbers are not changed (for example, 2 and 3), while the positions of other numbers are changed (for example, 1 and 5).\n"
   ]
  },
  {
   "cell_type": "code",
   "execution_count": 13,
   "id": "d223c561",
   "metadata": {},
   "outputs": [
    {
     "name": "stdout",
     "output_type": "stream",
     "text": [
      "Sorted array after applying merge sort is :  [-234, -23, 0, 0, 12, 23, 34, 56]\n"
     ]
    }
   ],
   "source": [
    "def merge_sort(arr):\n",
    "    i = 0\n",
    "    j = len(arr)-1\n",
    "    if len(arr) == 1:\n",
    "        return arr\n",
    "    mid = i + (j-i)//2\n",
    "    left = merge_sort(arr[i:mid+1])\n",
    "    right = merge_sort(arr[mid+1:j+1])\n",
    "    return merge_procedure(left,right)\n",
    "\n",
    "def merge_procedure(left,right):\n",
    "    n1 = len(left)\n",
    "    n2 = len(right)\n",
    "    n = n1+n2\n",
    "    temp = [0]*n\n",
    "    i = 0\n",
    "    j = 0\n",
    "    k = 0\n",
    "    \n",
    "    while(i<n1 and j<n2):\n",
    "        if left[i] <= right[j]:\n",
    "            temp[k] = left[i]\n",
    "            i +=1\n",
    "        else:\n",
    "            temp[k] = right[j]\n",
    "            j +=1\n",
    "        k +=1\n",
    "    while(i<n1):\n",
    "        temp[k] = left[i]\n",
    "        i +=1 \n",
    "        k +=1\n",
    "    while(j<n2):\n",
    "        temp[k] = right[j]\n",
    "        j +=1\n",
    "        k +=1\n",
    "    return temp\n",
    "\n",
    "## Driver code\n",
    "arr = [34,0,-23,12,56,-234,0,23]\n",
    "## function calling\n",
    "result = merge_sort(arr)\n",
    "print(\"Sorted array after applying merge sort is : \",result)"
   ]
  },
  {
   "cell_type": "markdown",
   "id": "65eddb08",
   "metadata": {},
   "source": [
    "## Q4 : Move all zeroes to end of array\n",
    "\n",
    "### Given an array of random numbers, Push all the zero’s of a given array to the end of the array. For example, if the given arrays is {1, 9, 8, 4, 0, 0, 2, 7, 0, 6, 0}, it should be changed to {1, 9, 8, 4, 2, 7, 6, 0, 0, 0, 0}. The order of all other elements should be same. Expected time complexity is O(n) and extra space is O(1).\n",
    "\n",
    "### - Example :\n",
    "- Input :  arr[] = {1, 2, 0, 4, 3, 0, 5, 0};\n",
    "- Output : arr[] = {1, 2, 4, 3, 5, 0, 0, 0};\n",
    "\n",
    "- Input : arr[]  = {1, 2, 0, 0, 0, 3, 6};\n",
    "- Output : arr[] = {1, 2, 3, 6, 0, 0, 0};"
   ]
  },
  {
   "cell_type": "code",
   "execution_count": 11,
   "id": "e92c57ea",
   "metadata": {},
   "outputs": [],
   "source": [
    "def moving_all_zeroes_to_end(arr):\n",
    "    for i in arr:\n",
    "        if i == 0:\n",
    "            arr.append(i)\n",
    "            arr.remove(i)\n",
    "    return arr\n"
   ]
  },
  {
   "cell_type": "code",
   "execution_count": 12,
   "id": "58e2eefb",
   "metadata": {},
   "outputs": [
    {
     "data": {
      "text/plain": [
       "[1, 2, 4, 3, 5, 0, 0, 0]"
      ]
     },
     "execution_count": 12,
     "metadata": {},
     "output_type": "execute_result"
    }
   ],
   "source": [
    "moving_all_zeroes_to_end([1, 2, 0, 4, 3, 0, 5, 0])"
   ]
  },
  {
   "cell_type": "markdown",
   "id": "89f187ac",
   "metadata": {},
   "source": [
    "## Q5 : Rearrange array in alternating positive & negative items with O(1) extra space\n",
    "\n",
    "### Given an **array of positive** and **negative numbers**, arrange them in an **alternate** fashion such that every positive number is followed by a negative and vice-versa maintaining the **order of appearance**. The number of positive and negative numbers need not be equal. If there are more positive numbers they appear at the end of the array. If there are more negative numbers, they too appear at the end of the array.\n",
    "\n",
    "### - Examples:\n",
    "\n",
    "- Input:  arr[] = {1, 2, 3, -4, -1, 4}\n",
    "- Output: arr[] = {-4, 1, -1, 2, 3, 4}\n",
    "\n",
    "- Input:  arr[] = {-5, -2, 5, 2, 4, 7, 1, 8, 0, -8}\n",
    "- Output: arr[] = {-5, 5, -2, 2, -8, 4, 7, 1, 8, 0}\n"
   ]
  },
  {
   "cell_type": "code",
   "execution_count": 5,
   "id": "df1e93f9",
   "metadata": {},
   "outputs": [
    {
     "name": "stdout",
     "output_type": "stream",
     "text": [
      "Array after rearranging :  [-4, 2, -1, 1, 3, 4]\n"
     ]
    }
   ],
   "source": [
    "def rearrange_array(arr):\n",
    "    i = 0\n",
    "    j = 1\n",
    "    while(j<len(arr)):\n",
    "        if arr[j] < 0:\n",
    "            temp = arr[j]\n",
    "            arr[j] = arr[i]\n",
    "            arr[i] = temp\n",
    "            i +=2\n",
    "            j +=1\n",
    "        else:\n",
    "            j +=1\n",
    "    return arr\n",
    "\n",
    "## Driver code\n",
    "arr = [1,2,3,-4,-1,4]\n",
    "result = rearrange_array(arr)\n",
    "print(\"Array after rearranging : \",result)"
   ]
  },
  {
   "cell_type": "code",
   "execution_count": null,
   "id": "ba94c721",
   "metadata": {},
   "outputs": [],
   "source": []
  },
  {
   "cell_type": "markdown",
   "id": "94454c3c",
   "metadata": {},
   "source": [
    "## Q6 : Merge two sorted arrays\n",
    "\n",
    "### Given two sorted arrays, the task is to merge them in a sorted manner.\n",
    "\n",
    "### Examples:\n",
    "\n",
    "- Input: arr1[] = { 1, 3, 4, 5}, arr2[] = {2, 4, 6, 8} \n",
    "- Output: arr3[] = {1, 2, 3, 4, 4, 5, 6, 8}\n",
    "\n",
    "- Input: arr1[] = { 5, 8, 9}, arr2[] = {4, 7, 8}\n",
    "- Output: arr3[] = {4, 5, 7, 8, 8, 9}\n"
   ]
  },
  {
   "cell_type": "code",
   "execution_count": 8,
   "id": "16e3e392",
   "metadata": {},
   "outputs": [],
   "source": [
    "def merge_two_sorted_arrays(arr1,arr2):\n",
    "    l1 = len(arr1)\n",
    "    l2 = len(arr2)\n",
    "    i = 0\n",
    "    j = 0\n",
    "    k = 0\n",
    "    \n",
    "    result = [0]*(l1+l2)\n",
    "    \n",
    "    while(i<l1 and j<l2):\n",
    "        if arr1[i] < arr2[j]:\n",
    "            result[k] = arr1[i]\n",
    "            i +=1\n",
    "        else:\n",
    "            result[k] = arr2[j]\n",
    "            j +=1\n",
    "        k +=1\n",
    "    while(i<l1):\n",
    "        result[k] = arr1[i]\n",
    "        i +=1\n",
    "        k +=1\n",
    "    while(j<l2):\n",
    "        result[k] = arr2[j]\n",
    "        j +=1\n",
    "        k +=1\n",
    "    return result    "
   ]
  },
  {
   "cell_type": "code",
   "execution_count": 9,
   "id": "e57afeb8",
   "metadata": {},
   "outputs": [
    {
     "data": {
      "text/plain": [
       "[1, 2, 3, 4, 4, 5, 6, 8]"
      ]
     },
     "execution_count": 9,
     "metadata": {},
     "output_type": "execute_result"
    }
   ],
   "source": [
    "merge_two_sorted_arrays([ 1, 3, 4, 5],[2, 4, 6, 8] )"
   ]
  },
  {
   "cell_type": "code",
   "execution_count": 10,
   "id": "4956fe7c",
   "metadata": {},
   "outputs": [
    {
     "data": {
      "text/plain": [
       "[4, 5, 7, 8, 8, 9]"
      ]
     },
     "execution_count": 10,
     "metadata": {},
     "output_type": "execute_result"
    }
   ],
   "source": [
    "merge_two_sorted_arrays([ 5, 8, 9],[4, 7, 8])"
   ]
  },
  {
   "cell_type": "markdown",
   "id": "39474062",
   "metadata": {},
   "source": [
    "## Q7 : Intersection of Two Arrays\n",
    "\n",
    "### Given two integer arrays `nums1` and `nums2`, return *an array of their intersection*. Each element in the result must be **unique** and you may return the result in **any order**.\n",
    "\n",
    "### - Example 1:\n",
    "\n",
    "- Input: nums1 = [1,2,2,1], nums2 = [2,2]\n",
    "- Output: [2]\n",
    "\n",
    "\n",
    "### - Example 2:\n",
    "- Input: nums1 = [4,9,5], nums2 = [9,4,9,8,4]\n",
    "- Output: [9,4]\n",
    "- Explanation: [4,9] is also accepted.\n"
   ]
  },
  {
   "cell_type": "code",
   "execution_count": 5,
   "id": "4df26fd5",
   "metadata": {},
   "outputs": [],
   "source": [
    "def intersection_of_two_arrays2(arr1,arr2):\n",
    "    result = []\n",
    "    for i in arr1:\n",
    "        if i in arr2:\n",
    "            result.append(i)\n",
    "            arr2.remove(i)\n",
    "    return list(set(result))\n"
   ]
  },
  {
   "cell_type": "code",
   "execution_count": 6,
   "id": "b90e095d",
   "metadata": {},
   "outputs": [
    {
     "data": {
      "text/plain": [
       "[2]"
      ]
     },
     "execution_count": 6,
     "metadata": {},
     "output_type": "execute_result"
    }
   ],
   "source": [
    "intersection_of_two_arrays2([1,2,2,1],[2,2])"
   ]
  },
  {
   "cell_type": "code",
   "execution_count": 7,
   "id": "f54df32f",
   "metadata": {},
   "outputs": [
    {
     "data": {
      "text/plain": [
       "[9, 4]"
      ]
     },
     "execution_count": 7,
     "metadata": {},
     "output_type": "execute_result"
    }
   ],
   "source": [
    "intersection_of_two_arrays2([4,9,5],[9,4,9,8,4])"
   ]
  },
  {
   "cell_type": "markdown",
   "id": "b16ae395",
   "metadata": {},
   "source": [
    "## Q8 : Intersection of Two Arrays II\n",
    "\n",
    "### Given two integer arrays `nums1` and `nums2`, return *an array of their intersection*. Each element in the result must appear as many times as it shows in both arrays and you may return the result in **any order**.\n",
    "\n",
    "### - Example 1:\n",
    "\n",
    "- Input: nums1 = [1,2,2,1], nums2 = [2,2]\n",
    "- Output: [2,2]\n",
    "\n",
    "\n",
    "### - Example 2:\n",
    "\n",
    "- Input: nums1 = [4,9,5], nums2 = [9,4,9,8,4]\n",
    "- Output: [4,9]\n",
    "- Explanation: [9,4] is also accepted.\n"
   ]
  },
  {
   "cell_type": "code",
   "execution_count": 1,
   "id": "4c8a6981",
   "metadata": {},
   "outputs": [],
   "source": [
    "def intersection_of_two_arrays2(arr1,arr2):\n",
    "    result = []\n",
    "    for i in arr1:\n",
    "        if i in arr2:\n",
    "            result.append(i)\n",
    "            arr2.remove(i)\n",
    "    return result\n"
   ]
  },
  {
   "cell_type": "code",
   "execution_count": 2,
   "id": "8aa1ac31",
   "metadata": {},
   "outputs": [
    {
     "data": {
      "text/plain": [
       "[2, 2]"
      ]
     },
     "execution_count": 2,
     "metadata": {},
     "output_type": "execute_result"
    }
   ],
   "source": [
    "intersection_of_two_arrays2([1,2,2,1],[2,2])"
   ]
  },
  {
   "cell_type": "code",
   "execution_count": 3,
   "id": "378771a3",
   "metadata": {},
   "outputs": [
    {
     "data": {
      "text/plain": [
       "[4, 9]"
      ]
     },
     "execution_count": 3,
     "metadata": {},
     "output_type": "execute_result"
    }
   ],
   "source": [
    "intersection_of_two_arrays2([4,9,5],[9,4,9,8,4])"
   ]
  }
 ],
 "metadata": {
  "kernelspec": {
   "display_name": "Python 3 (ipykernel)",
   "language": "python",
   "name": "python3"
  },
  "language_info": {
   "codemirror_mode": {
    "name": "ipython",
    "version": 3
   },
   "file_extension": ".py",
   "mimetype": "text/x-python",
   "name": "python",
   "nbconvert_exporter": "python",
   "pygments_lexer": "ipython3",
   "version": "3.10.9"
  }
 },
 "nbformat": 4,
 "nbformat_minor": 5
}
