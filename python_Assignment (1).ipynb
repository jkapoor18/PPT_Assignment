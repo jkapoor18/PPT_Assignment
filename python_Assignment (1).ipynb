{
 "cells": [
  {
   "cell_type": "markdown",
   "id": "722e44ab",
   "metadata": {},
   "source": [
    "### Q1. Write a Python program to reverse a string without using any built-in string reversal functions.\n"
   ]
  },
  {
   "cell_type": "code",
   "execution_count": 1,
   "id": "c72d7c82",
   "metadata": {},
   "outputs": [
    {
     "name": "stdout",
     "output_type": "stream",
     "text": [
      "Enter a string: ineuron\n",
      "Reversed string: norueni\n"
     ]
    }
   ],
   "source": [
    "def reverse_string(input_string):\n",
    "    reversed_string = \"\"\n",
    "    for i in range(len(input_string) - 1, -1, -1):\n",
    "        reversed_string += input_string[i]\n",
    "    return reversed_string\n",
    "\n",
    "# Test the function\n",
    "string = input(\"Enter a string: \")\n",
    "reversed_string = reverse_string(string)\n",
    "print(\"Reversed string:\", reversed_string)\n"
   ]
  },
  {
   "cell_type": "markdown",
   "id": "6f2b3064",
   "metadata": {},
   "source": [
    "### Q2. Implement a function to check if a given string is a palindrome.\n"
   ]
  },
  {
   "cell_type": "code",
   "execution_count": 2,
   "id": "e7ef820c",
   "metadata": {},
   "outputs": [
    {
     "name": "stdout",
     "output_type": "stream",
     "text": [
      "Enter a string: a man a plan\n",
      "The string is not a palindrome.\n"
     ]
    }
   ],
   "source": [
    "def is_palindrome(input_string):\n",
    "    # Remove whitespace and convert to lowercase\n",
    "    input_string = input_string.replace(\" \", \"\").lower()\n",
    "    \n",
    "    # Reverse the string\n",
    "    reversed_string = input_string[::-1]\n",
    "    \n",
    "    # Check if the original and reversed strings are the same\n",
    "    if input_string == reversed_string:\n",
    "        return True\n",
    "    else:\n",
    "        return False\n",
    "\n",
    "# Test the function\n",
    "string = input(\"Enter a string: \")\n",
    "if is_palindrome(string):\n",
    "    print(\"The string is a palindrome.\")\n",
    "else:\n",
    "    print(\"The string is not a palindrome.\")\n"
   ]
  },
  {
   "cell_type": "code",
   "execution_count": 3,
   "id": "6e978aeb",
   "metadata": {},
   "outputs": [
    {
     "name": "stdout",
     "output_type": "stream",
     "text": [
      "Enter a string: radar\n",
      "The string is a palindrome.\n"
     ]
    }
   ],
   "source": [
    "def is_palindrome(input_string):\n",
    "    # Remove whitespace and convert to lowercase\n",
    "    input_string = input_string.replace(\" \", \"\").lower()\n",
    "    \n",
    "    # Reverse the string\n",
    "    reversed_string = input_string[::-1]\n",
    "    \n",
    "    # Check if the original and reversed strings are the same\n",
    "    if input_string == reversed_string:\n",
    "        return True\n",
    "    else:\n",
    "        return False\n",
    "\n",
    "# Number of attempts allowed\n",
    "max_attempts = 3\n",
    "attempt_count = 1\n",
    "\n",
    "while attempt_count <= max_attempts:\n",
    "    string = input(\"Enter a string: \")\n",
    "    if is_palindrome(string):\n",
    "        print(\"The string is a palindrome.\")\n",
    "        break\n",
    "    else:\n",
    "        print(\"The string is not a palindrome.\")\n",
    "        attempt_count += 1\n",
    "\n",
    "if attempt_count > max_attempts:\n",
    "    print(\"Exceeded maximum number of attempts.\")\n"
   ]
  },
  {
   "cell_type": "markdown",
   "id": "8baadf6a",
   "metadata": {},
   "source": [
    "### Q3. Write a program to find the largest element in a given list.\n"
   ]
  },
  {
   "cell_type": "code",
   "execution_count": 4,
   "id": "0c7ca0f6",
   "metadata": {},
   "outputs": [
    {
     "name": "stdout",
     "output_type": "stream",
     "text": [
      "Largest element: 10\n"
     ]
    }
   ],
   "source": [
    "def find_largest_element(lst):\n",
    "    if len(lst) == 0:\n",
    "        return None\n",
    "\n",
    "    largest_element = lst[0]\n",
    "    for element in lst:\n",
    "        if element > largest_element:\n",
    "            largest_element = element\n",
    "\n",
    "    return largest_element\n",
    "\n",
    "# Test the function\n",
    "numbers = [7, 2, 9, 1, 5, 10]\n",
    "largest = find_largest_element(numbers)\n",
    "print(\"Largest element:\", largest)\n"
   ]
  },
  {
   "cell_type": "markdown",
   "id": "33303450",
   "metadata": {},
   "source": [
    "### Q4. Implement a function to count the occurrence of each element in a list.\n"
   ]
  },
  {
   "cell_type": "code",
   "execution_count": 5,
   "id": "af52dd12",
   "metadata": {},
   "outputs": [
    {
     "name": "stdout",
     "output_type": "stream",
     "text": [
      "Occurrences: {1: 2, 2: 2, 3: 3, 4: 3, 5: 1}\n"
     ]
    }
   ],
   "source": [
    "def count_occurrences(lst):\n",
    "    occurrence_count = {}\n",
    "\n",
    "    for element in lst:\n",
    "        if element in occurrence_count:\n",
    "            occurrence_count[element] += 1\n",
    "        else:\n",
    "            occurrence_count[element] = 1\n",
    "\n",
    "    return occurrence_count\n",
    "\n",
    "# Test the function\n",
    "numbers = [1, 2, 3, 2, 1, 3, 3, 4, 5, 4, 4]\n",
    "occurrences = count_occurrences(numbers)\n",
    "print(\"Occurrences:\", occurrences)\n"
   ]
  },
  {
   "cell_type": "markdown",
   "id": "3343c4a5",
   "metadata": {},
   "source": [
    "### Q5. Write a Python program to find the second largest number in a list.\n"
   ]
  },
  {
   "cell_type": "code",
   "execution_count": 6,
   "id": "9c53c094",
   "metadata": {},
   "outputs": [
    {
     "name": "stdout",
     "output_type": "stream",
     "text": [
      "Second largest number: 9\n"
     ]
    }
   ],
   "source": [
    "def find_second_largest(lst):\n",
    "    if len(lst) < 2:\n",
    "        return None\n",
    "\n",
    "    largest = max(lst[0], lst[1])\n",
    "    second_largest = min(lst[0], lst[1])\n",
    "\n",
    "    for i in range(2, len(lst)):\n",
    "        if lst[i] > largest:\n",
    "            second_largest = largest\n",
    "            largest = lst[i]\n",
    "        elif lst[i] > second_largest:\n",
    "            second_largest = lst[i]\n",
    "\n",
    "    return second_largest\n",
    "\n",
    "# Test the function\n",
    "numbers = [7, 2, 9, 1, 5, 10]\n",
    "second_largest = find_second_largest(numbers)\n",
    "\n",
    "if second_largest is None:\n",
    "    print(\"There is no second largest number.\")\n",
    "else:\n",
    "    print(\"Second largest number:\", second_largest)\n"
   ]
  },
  {
   "cell_type": "markdown",
   "id": "9331862f",
   "metadata": {},
   "source": [
    "### Q6. Implement a function to remove duplicate elements from a list.\n"
   ]
  },
  {
   "cell_type": "code",
   "execution_count": 7,
   "id": "990fcdd7",
   "metadata": {},
   "outputs": [
    {
     "name": "stdout",
     "output_type": "stream",
     "text": [
      "Unique numbers: [1, 2, 3, 4, 5]\n"
     ]
    }
   ],
   "source": [
    "def remove_duplicates(lst):\n",
    "    return list(set(lst))\n",
    "\n",
    "# Test the function\n",
    "numbers = [1, 2, 3, 2, 1, 3, 3, 4, 5, 4, 4]\n",
    "unique_numbers = remove_duplicates(numbers)\n",
    "print(\"Unique numbers:\", unique_numbers)\n"
   ]
  },
  {
   "cell_type": "markdown",
   "id": "fec0a711",
   "metadata": {},
   "source": [
    "### Q7. Write a program to calculate the factorial of a given number.\n"
   ]
  },
  {
   "cell_type": "code",
   "execution_count": 8,
   "id": "66f3d721",
   "metadata": {},
   "outputs": [
    {
     "name": "stdout",
     "output_type": "stream",
     "text": [
      "Enter a number: 6\n",
      "Factorial: 720\n"
     ]
    }
   ],
   "source": [
    "def factorial(n):\n",
    "    if n < 0:\n",
    "        return None\n",
    "\n",
    "    result = 1\n",
    "    for i in range(1, n + 1):\n",
    "        result *= i\n",
    "\n",
    "    return result\n",
    "\n",
    "# Test the function\n",
    "number = int(input(\"Enter a number: \"))\n",
    "factorial_result = factorial(number)\n",
    "\n",
    "if factorial_result is None:\n",
    "    print(\"Factorial is undefined for negative numbers.\")\n",
    "else:\n",
    "    print(\"Factorial:\", factorial_result)\n",
    "\n"
   ]
  },
  {
   "cell_type": "markdown",
   "id": "7f650b39",
   "metadata": {},
   "source": [
    "### Q8. Implement a function to check if a given number is prime.\n"
   ]
  },
  {
   "cell_type": "code",
   "execution_count": 9,
   "id": "0a071fd2",
   "metadata": {},
   "outputs": [
    {
     "name": "stdout",
     "output_type": "stream",
     "text": [
      "Enter a number: 5\n",
      "5 is a prime number.\n"
     ]
    }
   ],
   "source": [
    "def is_prime(n):\n",
    "    if n <= 1:\n",
    "        return False\n",
    "\n",
    "    for i in range(2, n):\n",
    "        if n % i == 0:\n",
    "            return False\n",
    "\n",
    "    return True\n",
    "\n",
    "# Test the function\n",
    "number = int(input(\"Enter a number: \"))\n",
    "if is_prime(number):\n",
    "    print(number, \"is a prime number.\")\n",
    "else:\n",
    "    print(number, \"is not a prime number.\")\n"
   ]
  },
  {
   "cell_type": "markdown",
   "id": "50710994",
   "metadata": {},
   "source": [
    "### Q9. Write a Python program to sort a list of integers in ascending order.\n"
   ]
  },
  {
   "cell_type": "code",
   "execution_count": 10,
   "id": "54ef8758",
   "metadata": {},
   "outputs": [
    {
     "name": "stdout",
     "output_type": "stream",
     "text": [
      "Sorted list in ascending order: [1, 2, 5, 7, 9, 10]\n"
     ]
    }
   ],
   "source": [
    "def sort_list(lst):\n",
    "    return sorted(lst)\n",
    "\n",
    "# Test the function\n",
    "numbers = [7, 2, 9, 1, 5, 10]\n",
    "sorted_numbers = sort_list(numbers)\n",
    "print(\"Sorted list in ascending order:\", sorted_numbers)\n"
   ]
  },
  {
   "cell_type": "code",
   "execution_count": 11,
   "id": "909502f3",
   "metadata": {},
   "outputs": [
    {
     "name": "stdout",
     "output_type": "stream",
     "text": [
      "Sorted list in descending order: [10, 9, 7, 5, 2, 1]\n"
     ]
    }
   ],
   "source": [
    "def sort_list(lst):\n",
    "    return sorted(lst, reverse=True)\n",
    "\n",
    "# Test the function\n",
    "numbers = [7, 2, 9, 1, 5, 10]\n",
    "sorted_numbers = sort_list(numbers)\n",
    "print(\"Sorted list in descending order:\", sorted_numbers)\n"
   ]
  },
  {
   "cell_type": "markdown",
   "id": "642b0e56",
   "metadata": {},
   "source": [
    "### Q10. Implement a function to find the sum of all numbers in a list.\n"
   ]
  },
  {
   "cell_type": "code",
   "execution_count": 12,
   "id": "c3538d11",
   "metadata": {},
   "outputs": [
    {
     "name": "stdout",
     "output_type": "stream",
     "text": [
      "Sum of numbers: 15\n"
     ]
    }
   ],
   "source": [
    "def find_sum(lst):\n",
    "    total = 0\n",
    "    for number in lst:\n",
    "        total += number\n",
    "    return total\n",
    "\n",
    "# Test the function\n",
    "numbers = [1, 2, 3, 4, 5]\n",
    "sum_of_numbers = find_sum(numbers)\n",
    "print(\"Sum of numbers:\", sum_of_numbers)\n"
   ]
  },
  {
   "cell_type": "markdown",
   "id": "351a0061",
   "metadata": {},
   "source": [
    "### Q11. Write a program to find the common elements between two lists.\n"
   ]
  },
  {
   "cell_type": "code",
   "execution_count": 13,
   "id": "ac921cfe",
   "metadata": {},
   "outputs": [
    {
     "name": "stdout",
     "output_type": "stream",
     "text": [
      "Common elements: [4, 5]\n"
     ]
    }
   ],
   "source": [
    "def find_common_elements(list1, list2):\n",
    "    common_elements = []\n",
    "    for element in list1:\n",
    "        if element in list2:\n",
    "            common_elements.append(element)\n",
    "    return common_elements\n",
    "\n",
    "# Test the function\n",
    "list1 = [1, 2, 3, 4, 5]\n",
    "list2 = [4, 5, 6, 7, 8]\n",
    "common_elements = find_common_elements(list1, list2)\n",
    "print(\"Common elements:\", common_elements)\n"
   ]
  },
  {
   "cell_type": "markdown",
   "id": "2c1cd3a0",
   "metadata": {},
   "source": [
    "### Q12. Implement a function to check if a given string is an anagram of another string.\n"
   ]
  },
  {
   "cell_type": "code",
   "execution_count": 14,
   "id": "89748e79",
   "metadata": {},
   "outputs": [
    {
     "name": "stdout",
     "output_type": "stream",
     "text": [
      "Enter the first string: listen\n",
      "Enter the second string: silent\n",
      "The strings are anagrams.\n"
     ]
    }
   ],
   "source": [
    "def is_anagram(str1, str2):\n",
    "    str1 = str1.lower().replace(\" \", \"\")\n",
    "    str2 = str2.lower().replace(\" \", \"\")\n",
    "    \n",
    "    if len(str1) != len(str2):\n",
    "        return False\n",
    "    \n",
    "    for char in str1:\n",
    "        if char not in str2:\n",
    "            return False\n",
    "    \n",
    "    return True\n",
    "\n",
    "# Test the function\n",
    "string1 = input(\"Enter the first string: \")\n",
    "string2 = input(\"Enter the second string: \")\n",
    "\n",
    "if is_anagram(string1, string2):\n",
    "    print(\"The strings are anagrams.\")\n",
    "else:\n",
    "    print(\"The strings are not anagrams.\")\n"
   ]
  },
  {
   "cell_type": "markdown",
   "id": "448e61cb",
   "metadata": {},
   "source": [
    "### Q13. Write a Python program to generate all permutations of a given string."
   ]
  },
  {
   "cell_type": "code",
   "execution_count": 15,
   "id": "cfcea56c",
   "metadata": {},
   "outputs": [
    {
     "name": "stdout",
     "output_type": "stream",
     "text": [
      "Enter a string: 2345\n",
      "Permutations:\n",
      "2345\n",
      "2354\n",
      "2435\n",
      "2453\n",
      "2534\n",
      "2543\n",
      "3245\n",
      "3254\n",
      "3425\n",
      "3452\n",
      "3524\n",
      "3542\n",
      "4235\n",
      "4253\n",
      "4325\n",
      "4352\n",
      "4523\n",
      "4532\n",
      "5234\n",
      "5243\n",
      "5324\n",
      "5342\n",
      "5423\n",
      "5432\n"
     ]
    }
   ],
   "source": [
    "def generate_permutations(string):\n",
    "    if len(string) == 0:\n",
    "        return []\n",
    "\n",
    "    if len(string) == 1:\n",
    "        return [string]\n",
    "\n",
    "    permutations = []\n",
    "    for i in range(len(string)):\n",
    "        char = string[i]\n",
    "        remaining_chars = string[:i] + string[i+1:]\n",
    "        for permutation in generate_permutations(remaining_chars):\n",
    "            permutations.append(char + permutation)\n",
    "\n",
    "    return permutations\n",
    "\n",
    "# Test the function\n",
    "input_string = input(\"Enter a string: \")\n",
    "permutations = generate_permutations(input_string)\n",
    "print(\"Permutations:\")\n",
    "for permutation in permutations:\n",
    "    print(permutation)\n"
   ]
  },
  {
   "cell_type": "code",
   "execution_count": 16,
   "id": "8caf5129",
   "metadata": {},
   "outputs": [
    {
     "name": "stdout",
     "output_type": "stream",
     "text": [
      "Enter a string: 456\n",
      "Permutations:\n",
      "456\n",
      "465\n",
      "546\n",
      "564\n",
      "645\n",
      "654\n"
     ]
    }
   ],
   "source": [
    "from itertools import permutations\n",
    "\n",
    "def generate_permutations(string):\n",
    "    perms = [''.join(perm) for perm in permutations(string)]\n",
    "    return perms\n",
    "\n",
    "# Test the function\n",
    "input_string = input(\"Enter a string: \")\n",
    "permutations = generate_permutations(input_string)\n",
    "print(\"Permutations:\")\n",
    "for permutation in permutations:\n",
    "    print(permutation)\n"
   ]
  },
  {
   "cell_type": "markdown",
   "id": "57f0f2b1",
   "metadata": {},
   "source": [
    "### Q14. Implement a function to calculate the Fibonacci sequence up to a given number of terms.\n"
   ]
  },
  {
   "cell_type": "code",
   "execution_count": 19,
   "id": "73e082dd",
   "metadata": {},
   "outputs": [
    {
     "name": "stdout",
     "output_type": "stream",
     "text": [
      "Enter the number of terms: 10\n",
      "Fibonacci sequence:\n",
      "[0, 1, 1, 2, 3, 5, 8, 13, 21, 34]\n"
     ]
    }
   ],
   "source": [
    "def fibonacci_sequence(n):\n",
    "    sequence = []\n",
    "    if n >= 1:\n",
    "        sequence.append(0)\n",
    "    if n >= 2:\n",
    "        sequence.append(1)\n",
    "    \n",
    "    for i in range(2, n):\n",
    "        sequence.append(sequence[i-1] + sequence[i-2])\n",
    "    \n",
    "    return sequence\n",
    "\n",
    "# Test the function\n",
    "num_terms = int(input(\"Enter the number of terms: \"))\n",
    "fibonacci_seq = fibonacci_sequence(num_terms)\n",
    "print(\"Fibonacci sequence:\")\n",
    "print(fibonacci_seq)\n"
   ]
  },
  {
   "cell_type": "markdown",
   "id": "a9da1e4b",
   "metadata": {},
   "source": [
    "### Q15. Write a program to find the median of a list of numbers.\n"
   ]
  },
  {
   "cell_type": "code",
   "execution_count": 20,
   "id": "2bd35579",
   "metadata": {},
   "outputs": [
    {
     "name": "stdout",
     "output_type": "stream",
     "text": [
      "Enter a list of numbers, separated by spaces: 3 5 6 7 8\n",
      "Median: 6.0\n"
     ]
    }
   ],
   "source": [
    "import statistics\n",
    "\n",
    "def find_median(numbers):\n",
    "    median = statistics.median(numbers)\n",
    "    return median\n",
    "\n",
    "# Test the function\n",
    "number_list = input(\"Enter a list of numbers, separated by spaces: \").split()\n",
    "number_list = [float(num) for num in number_list]\n",
    "median = find_median(number_list)\n",
    "print(\"Median:\", median)\n",
    "\n",
    "    "
   ]
  },
  {
   "cell_type": "markdown",
   "id": "6e3cfda8",
   "metadata": {},
   "source": [
    "### Q16. Implement a function to check if a given list is sorted in non-decreasing order.\n"
   ]
  },
  {
   "cell_type": "code",
   "execution_count": 21,
   "id": "82fdb145",
   "metadata": {},
   "outputs": [
    {
     "name": "stdout",
     "output_type": "stream",
     "text": [
      "Enter a list of numbers, separated by spaces: 3 6 9 5 4\n",
      "The list is not sorted in non-decreasing order.\n"
     ]
    }
   ],
   "source": [
    "def is_sorted(numbers):\n",
    "    for i in range(len(numbers) - 1):\n",
    "        if numbers[i] > numbers[i + 1]:\n",
    "            return False\n",
    "    return True\n",
    "\n",
    "# Test the function\n",
    "number_list = input(\"Enter a list of numbers, separated by spaces: \").split()\n",
    "number_list = [float(num) for num in number_list]\n",
    "sorted_status = is_sorted(number_list)\n",
    "\n",
    "if sorted_status:\n",
    "    print(\"The list is sorted in non-decreasing order.\")\n",
    "else:\n",
    "    print(\"The list is not sorted in non-decreasing order.\")\n"
   ]
  },
  {
   "cell_type": "markdown",
   "id": "0a9e430a",
   "metadata": {},
   "source": [
    "### Q17. Write a Python program to find the intersection of two lists.\n"
   ]
  },
  {
   "cell_type": "code",
   "execution_count": 22,
   "id": "bdc40c81",
   "metadata": {},
   "outputs": [
    {
     "name": "stdout",
     "output_type": "stream",
     "text": [
      "Enter elements of the first list, separated by spaces:  3 4 5 6 \n",
      "Enter elements of the second list, separated by spaces: 4 5 6 8 \n",
      "Intersection of the two lists: ['5', '4', '6']\n"
     ]
    }
   ],
   "source": [
    "def find_intersection(list1, list2):\n",
    "    intersection = list(set(list1) & set(list2))\n",
    "    return intersection\n",
    "\n",
    "# Test the function\n",
    "list1 = input(\"Enter elements of the first list, separated by spaces: \").split()\n",
    "list2 = input(\"Enter elements of the second list, separated by spaces: \").split()\n",
    "\n",
    "intersection = find_intersection(list1, list2)\n",
    "print(\"Intersection of the two lists:\", intersection)\n"
   ]
  },
  {
   "cell_type": "markdown",
   "id": "10f292ce",
   "metadata": {},
   "source": [
    "### Q18. Implement a function to find the maximum subarray sum in a given list.\n"
   ]
  },
  {
   "cell_type": "code",
   "execution_count": 23,
   "id": "6ac479c4",
   "metadata": {},
   "outputs": [
    {
     "name": "stdout",
     "output_type": "stream",
     "text": [
      "Enter a list of numbers, separated by spaces: 4 6 7 9 8 \n",
      "Maximum subarray sum: 34\n"
     ]
    }
   ],
   "source": [
    "def find_maximum_subarray_sum(numbers):\n",
    "    current_max = max_sum = numbers[0]\n",
    "    \n",
    "    for num in numbers[1:]:\n",
    "        current_max = max(num, current_max + num)\n",
    "        max_sum = max(max_sum, current_max)\n",
    "    \n",
    "    return max_sum\n",
    "\n",
    "# Test the function\n",
    "number_list = input(\"Enter a list of numbers, separated by spaces: \").split()\n",
    "number_list = [int(num) for num in number_list]\n",
    "maximum_sum = find_maximum_subarray_sum(number_list)\n",
    "print(\"Maximum subarray sum:\", maximum_sum)\n"
   ]
  },
  {
   "cell_type": "markdown",
   "id": "26534e60",
   "metadata": {},
   "source": [
    "### Q19. Write a program to remove all vowels from a given string.\n"
   ]
  },
  {
   "cell_type": "code",
   "execution_count": 24,
   "id": "fa334688",
   "metadata": {},
   "outputs": [
    {
     "name": "stdout",
     "output_type": "stream",
     "text": [
      "Enter a string: ineuron\n",
      "String after removing vowels: nrn\n"
     ]
    }
   ],
   "source": [
    "def remove_vowels(string):\n",
    "    vowels = \"aeiouAEIOU\"\n",
    "    result = \"\"\n",
    "    for char in string:\n",
    "        if char not in vowels:\n",
    "            result += char\n",
    "    return result\n",
    "\n",
    "# Test the function\n",
    "input_string = input(\"Enter a string: \")\n",
    "result_string = remove_vowels(input_string)\n",
    "print(\"String after removing vowels:\", result_string)\n"
   ]
  },
  {
   "cell_type": "markdown",
   "id": "a323492e",
   "metadata": {},
   "source": [
    "### Q20. Implement a function to reverse the order of words in a given sentence.\n"
   ]
  },
  {
   "cell_type": "code",
   "execution_count": 25,
   "id": "4961cc26",
   "metadata": {},
   "outputs": [
    {
     "name": "stdout",
     "output_type": "stream",
     "text": [
      "Enter a sentence: ineuron\n",
      "Reversed sentence: ineuron\n"
     ]
    }
   ],
   "source": [
    "def reverse_words(sentence):\n",
    "    words = sentence.split()\n",
    "    reversed_sentence = \" \".join(words[::-1])\n",
    "    return reversed_sentence\n",
    "\n",
    "# Test the function\n",
    "input_sentence = input(\"Enter a sentence: \")\n",
    "reversed_sentence = reverse_words(input_sentence)\n",
    "print(\"Reversed sentence:\", reversed_sentence)\n"
   ]
  },
  {
   "cell_type": "markdown",
   "id": "cc6bb8fe",
   "metadata": {},
   "source": [
    "### Q21. Write a Python program to check if two strings are anagrams of each other.\n"
   ]
  },
  {
   "cell_type": "code",
   "execution_count": 26,
   "id": "c616b6f1",
   "metadata": {},
   "outputs": [
    {
     "name": "stdout",
     "output_type": "stream",
     "text": [
      "Enter the first string: listen \n",
      "Enter the second string: silent\n",
      "The strings are anagrams.\n"
     ]
    }
   ],
   "source": [
    "def is_anagram(str1, str2):\n",
    "    str1 = str1.lower().replace(\" \", \"\")\n",
    "    str2 = str2.lower().replace(\" \", \"\")\n",
    "    \n",
    "    if len(str1) != len(str2):\n",
    "        return False\n",
    "    \n",
    "    for char in str1:\n",
    "        if char not in str2:\n",
    "            return False\n",
    "    \n",
    "    return True\n",
    "\n",
    "# Test the function\n",
    "string1 = input(\"Enter the first string: \")\n",
    "string2 = input(\"Enter the second string: \")\n",
    "\n",
    "if is_anagram(string1, string2):\n",
    "    print(\"The strings are anagrams.\")\n",
    "else:\n",
    "    print(\"The strings are not anagrams.\")"
   ]
  },
  {
   "cell_type": "markdown",
   "id": "bbf6d745",
   "metadata": {},
   "source": [
    "### Q22. Implement a function to find the first non-repeating character in a string.\n"
   ]
  },
  {
   "cell_type": "code",
   "execution_count": 27,
   "id": "7ac0ce4f",
   "metadata": {},
   "outputs": [
    {
     "name": "stdout",
     "output_type": "stream",
     "text": [
      "Enter a string: 3 5 7 8 5 5 5 5 7 7 \n",
      "The first non-repeating character is: 3\n"
     ]
    }
   ],
   "source": [
    "def find_first_non_repeating_char(string):\n",
    "    char_counts = {}\n",
    "    \n",
    "    # Count the occurrences of each character\n",
    "    for char in string:\n",
    "        if char in char_counts:\n",
    "            char_counts[char] += 1\n",
    "        else:\n",
    "            char_counts[char] = 1\n",
    "    \n",
    "    # Find the first non-repeating character\n",
    "    for char in string:\n",
    "        if char_counts[char] == 1:\n",
    "            return char\n",
    "    \n",
    "    return None\n",
    "\n",
    "# Test the function\n",
    "input_string = input(\"Enter a string: \")\n",
    "first_non_repeating_char = find_first_non_repeating_char(input_string)\n",
    "\n",
    "if first_non_repeating_char:\n",
    "    print(\"The first non-repeating character is:\", first_non_repeating_char)\n",
    "else:\n",
    "    print(\"There are no non-repeating characters in the string.\")\n"
   ]
  },
  {
   "cell_type": "markdown",
   "id": "4ccad7ba",
   "metadata": {},
   "source": [
    "### Q23. Write a program to find the prime factors of a given number.\n"
   ]
  },
  {
   "cell_type": "code",
   "execution_count": 28,
   "id": "5cc9290e",
   "metadata": {},
   "outputs": [
    {
     "name": "stdout",
     "output_type": "stream",
     "text": [
      "Enter a number: 36\n",
      "Prime factors of 36 are: [2, 2, 3, 3]\n"
     ]
    }
   ],
   "source": [
    "def find_prime_factors(number):\n",
    "    prime_factors = []\n",
    "    divisor = 2\n",
    "\n",
    "    while divisor <= number:\n",
    "        if number % divisor == 0:\n",
    "            prime_factors.append(divisor)\n",
    "            number //= divisor\n",
    "        else:\n",
    "            divisor += 1\n",
    "\n",
    "    return prime_factors\n",
    "\n",
    "# Test the program\n",
    "input_number = int(input(\"Enter a number: \"))\n",
    "prime_factors = find_prime_factors(input_number)\n",
    "\n",
    "print(\"Prime factors of\", input_number, \"are:\", prime_factors)\n"
   ]
  },
  {
   "cell_type": "markdown",
   "id": "52c2cec4",
   "metadata": {},
   "source": [
    "### Q24. Implement a function to check if a given number is a power of two.\n"
   ]
  },
  {
   "cell_type": "code",
   "execution_count": 29,
   "id": "3a39c098",
   "metadata": {},
   "outputs": [
    {
     "name": "stdout",
     "output_type": "stream",
     "text": [
      "Enter a number: 16\n",
      "16 is a power of two.\n"
     ]
    }
   ],
   "source": [
    "def is_power_of_two(number):\n",
    "    if number <= 0:\n",
    "        return False\n",
    "    \n",
    "    while number > 1:\n",
    "        if number % 2 != 0:\n",
    "            return False\n",
    "        number //= 2\n",
    "    \n",
    "    return True\n",
    "\n",
    "# Test the function\n",
    "input_number = int(input(\"Enter a number: \"))\n",
    "if is_power_of_two(input_number):\n",
    "    print(input_number, \"is a power of two.\")\n",
    "else:\n",
    "    print(input_number, \"is not a power of two.\")\n"
   ]
  },
  {
   "cell_type": "markdown",
   "id": "ad20a54d",
   "metadata": {},
   "source": [
    "### Q25. Write a Python program to merge two sorted lists into a single sorted list.\n"
   ]
  },
  {
   "cell_type": "code",
   "execution_count": 30,
   "id": "edf4c398",
   "metadata": {},
   "outputs": [
    {
     "name": "stdout",
     "output_type": "stream",
     "text": [
      "Merged list: [1, 2, 3, 4, 5, 6, 7, 8, 9, 10]\n"
     ]
    }
   ],
   "source": [
    "def merge_sorted_lists(list1, list2):\n",
    "    merged_list = []\n",
    "    i = 0  # Index for list1\n",
    "    j = 0  # Index for list2\n",
    "\n",
    "    # Merge the lists while both have elements\n",
    "    while i < len(list1) and j < len(list2):\n",
    "        if list1[i] < list2[j]:\n",
    "            merged_list.append(list1[i])\n",
    "            i += 1\n",
    "        else:\n",
    "            merged_list.append(list2[j])\n",
    "            j += 1\n",
    "\n",
    "    # Append remaining elements of list1, if any\n",
    "    while i < len(list1):\n",
    "        merged_list.append(list1[i])\n",
    "        i += 1\n",
    "\n",
    "    # Append remaining elements of list2, if any\n",
    "    while j < len(list2):\n",
    "        merged_list.append(list2[j])\n",
    "        j += 1\n",
    "\n",
    "    return merged_list\n",
    "\n",
    "# Test the program\n",
    "sorted_list1 = [1, 3, 5, 7, 9]\n",
    "sorted_list2 = [2, 4, 6, 8, 10]\n",
    "merged_list = merge_sorted_lists(sorted_list1, sorted_list2)\n",
    "\n",
    "print(\"Merged list:\", merged_list)\n"
   ]
  },
  {
   "cell_type": "markdown",
   "id": "612b53e8",
   "metadata": {},
   "source": [
    "### Q26. Implement a function to find the mode of a list of numbers.\n"
   ]
  },
  {
   "cell_type": "code",
   "execution_count": 33,
   "id": "eb469c50",
   "metadata": {},
   "outputs": [
    {
     "name": "stdout",
     "output_type": "stream",
     "text": [
      "Enter a list of numbers, separated by spaces: 3 5 6 7 8 9 \n",
      "Mode: 3.0\n"
     ]
    }
   ],
   "source": [
    "import statistics\n",
    "\n",
    "def find_mode(numbers):\n",
    "    mode = statistics.mode(numbers)\n",
    "    return mode\n",
    "\n",
    "# Test the function\n",
    "number_list = input(\"Enter a list of numbers, separated by spaces: \").split()\n",
    "number_list = [float(num) for num in number_list]\n",
    "mode = find_mode(number_list)\n",
    "print(\"Mode:\", mode)\n"
   ]
  },
  {
   "cell_type": "markdown",
   "id": "520e2e8c",
   "metadata": {},
   "source": [
    "### Q27. Write a program to find the greatest common divisor (GCD) of two numbers.\n"
   ]
  },
  {
   "cell_type": "code",
   "execution_count": 34,
   "id": "3d2ad41a",
   "metadata": {},
   "outputs": [
    {
     "name": "stdout",
     "output_type": "stream",
     "text": [
      "Enter the first number: 34\n",
      "Enter the second number: 24\n",
      "GCD: 2\n"
     ]
    }
   ],
   "source": [
    "def gcd(a, b):\n",
    "    while b != 0:\n",
    "        a, b = b, a % b\n",
    "    return a\n",
    "\n",
    "# Test the program\n",
    "num1 = int(input(\"Enter the first number: \"))\n",
    "num2 = int(input(\"Enter the second number: \"))\n",
    "\n",
    "result = gcd(num1, num2)\n",
    "print(\"GCD:\", result)\n"
   ]
  },
  {
   "cell_type": "markdown",
   "id": "ccc3458d",
   "metadata": {},
   "source": [
    "### Q28. Implement a function to calculate the square root of a given number.\n"
   ]
  },
  {
   "cell_type": "code",
   "execution_count": 35,
   "id": "0c9ca82f",
   "metadata": {},
   "outputs": [
    {
     "name": "stdout",
     "output_type": "stream",
     "text": [
      "Enter a number: 25\n",
      "Square root: 5.000000000053722\n"
     ]
    }
   ],
   "source": [
    "def square_root(number, epsilon=1e-6):\n",
    "    guess = number  # Initial guess\n",
    "    while abs(guess * guess - number) > epsilon:\n",
    "        guess = (guess + number / guess) / 2  # Update the guess using the Newton's method\n",
    "    return guess\n",
    "\n",
    "# Test the function\n",
    "number = float(input(\"Enter a number: \"))\n",
    "result = square_root(number)\n",
    "print(\"Square root:\", result)\n"
   ]
  },
  {
   "cell_type": "markdown",
   "id": "9470ba8b",
   "metadata": {},
   "source": [
    "### Q29. Write a Python program to check if a given string is a valid palindrome ignoring non-alphanumeric characters."
   ]
  },
  {
   "cell_type": "code",
   "execution_count": 36,
   "id": "3c44586b",
   "metadata": {},
   "outputs": [
    {
     "name": "stdout",
     "output_type": "stream",
     "text": [
      "Enter a string: radar\n",
      "The string is a valid palindrome.\n"
     ]
    }
   ],
   "source": [
    "import re\n",
    "\n",
    "def is_valid_palindrome(string):\n",
    "    # Remove non-alphanumeric characters from the string\n",
    "    alphanumeric_string = re.sub(r'[^a-zA-Z0-9]', '', string)\n",
    "    \n",
    "    # Convert the string to lowercase for case-insensitive comparison\n",
    "    alphanumeric_string = alphanumeric_string.lower()\n",
    "    \n",
    "    # Check if the alphanumeric string is a palindrome\n",
    "    return alphanumeric_string == alphanumeric_string[::-1]\n",
    "\n",
    "# Test the program\n",
    "input_string = input(\"Enter a string: \")\n",
    "if is_valid_palindrome(input_string):\n",
    "    print(\"The string is a valid palindrome.\")\n",
    "else:\n",
    "    print(\"The string is not a valid palindrome.\")\n"
   ]
  },
  {
   "cell_type": "markdown",
   "id": "8ba006f6",
   "metadata": {},
   "source": [
    "### Q30. Implement a function to find the minimum element in a rotated sorted list.\n"
   ]
  },
  {
   "cell_type": "code",
   "execution_count": 37,
   "id": "28effbf5",
   "metadata": {},
   "outputs": [
    {
     "name": "stdout",
     "output_type": "stream",
     "text": [
      "Minimum element: 0\n"
     ]
    }
   ],
   "source": [
    "def find_min(rotated_list):\n",
    "    left = 0\n",
    "    right = len(rotated_list) - 1\n",
    "\n",
    "    while left < right:\n",
    "        mid = left + (right - left) // 2\n",
    "\n",
    "        if rotated_list[mid] > rotated_list[right]:\n",
    "            left = mid + 1\n",
    "        else:\n",
    "            right = mid\n",
    "\n",
    "    return rotated_list[left]\n",
    "\n",
    "# Test the function\n",
    "list1 = [4, 5, 6, 7, 0, 1, 2]\n",
    "min_element = find_min(list1)\n",
    "print(\"Minimum element:\", min_element)\n"
   ]
  },
  {
   "cell_type": "markdown",
   "id": "d71ee503",
   "metadata": {},
   "source": [
    "### Q31. Write a program to find the sum of all even numbers in a list.\n"
   ]
  },
  {
   "cell_type": "code",
   "execution_count": 38,
   "id": "b0e8d503",
   "metadata": {},
   "outputs": [
    {
     "name": "stdout",
     "output_type": "stream",
     "text": [
      "Sum of even numbers: 30\n"
     ]
    }
   ],
   "source": [
    "def sum_even_numbers(numbers):\n",
    "    total = 0\n",
    "    for num in numbers:\n",
    "        if num % 2 == 0:\n",
    "            total += num\n",
    "    return total\n",
    "\n",
    "# Example usage:\n",
    "numbers_list = [1, 2, 3, 4, 5, 6, 7, 8, 9, 10]\n",
    "sum_even = sum_even_numbers(numbers_list)\n",
    "print(\"Sum of even numbers:\", sum_even)\n",
    "\n"
   ]
  },
  {
   "cell_type": "markdown",
   "id": "6dcb18be",
   "metadata": {},
   "source": [
    "### Q32. Implement a function to calculate the power of a number using recursion.\n"
   ]
  },
  {
   "cell_type": "code",
   "execution_count": 39,
   "id": "975d469c",
   "metadata": {},
   "outputs": [
    {
     "name": "stdout",
     "output_type": "stream",
     "text": [
      "2 raised to the power of 3 is: 8\n"
     ]
    }
   ],
   "source": [
    "def power(base, exponent):\n",
    "    if exponent == 0:\n",
    "        return 1\n",
    "    elif exponent < 0:\n",
    "        return 1 / power(base, -exponent)\n",
    "    else:\n",
    "        return base * power(base, exponent - 1)\n",
    "\n",
    "# Example usage:\n",
    "base = 2\n",
    "exponent = 3\n",
    "result = power(base, exponent)\n",
    "print(f\"{base} raised to the power of {exponent} is: {result}\")\n"
   ]
  },
  {
   "cell_type": "markdown",
   "id": "5b3e3d98",
   "metadata": {},
   "source": [
    "### Q33. Write a Python program to remove duplicates from a list while preserving the order.\n"
   ]
  },
  {
   "cell_type": "code",
   "execution_count": 40,
   "id": "73802003",
   "metadata": {},
   "outputs": [
    {
     "name": "stdout",
     "output_type": "stream",
     "text": [
      "List with duplicates removed: [3, 2, 1, 4, 5, 6]\n"
     ]
    }
   ],
   "source": [
    "def remove_duplicates(lst):\n",
    "    seen = set()\n",
    "    result = []\n",
    "    for item in lst:\n",
    "        if item not in seen:\n",
    "            result.append(item)\n",
    "            seen.add(item)\n",
    "    return result\n",
    "\n",
    "# Example usage:\n",
    "my_list = [3, 2, 1, 2, 4, 3, 5, 4, 6, 5]\n",
    "unique_list = remove_duplicates(my_list)\n",
    "print(\"List with duplicates removed:\", unique_list)\n"
   ]
  },
  {
   "cell_type": "markdown",
   "id": "855d8663",
   "metadata": {},
   "source": [
    "### Q34. Implement a function to find the longest common prefix among a list of strings.\n",
    "\n"
   ]
  },
  {
   "cell_type": "code",
   "execution_count": 41,
   "id": "1b9bf4d3",
   "metadata": {},
   "outputs": [
    {
     "name": "stdout",
     "output_type": "stream",
     "text": [
      "Longest common prefix: fl\n"
     ]
    }
   ],
   "source": [
    "def longest_common_prefix(strs):\n",
    "    if not strs:\n",
    "        return \"\"\n",
    "    \n",
    "    prefix = strs[0]\n",
    "    for string in strs[1:]:\n",
    "        while not string.startswith(prefix):\n",
    "            prefix = prefix[:-1]\n",
    "            if not prefix:\n",
    "                return \"\"\n",
    "    \n",
    "    return prefix\n",
    "\n",
    "# Example usage:\n",
    "string_list = [\"flower\", \"flow\", \"flight\"]\n",
    "common_prefix = longest_common_prefix(string_list)\n",
    "print(\"Longest common prefix:\", common_prefix)\n"
   ]
  },
  {
   "cell_type": "markdown",
   "id": "2dfae424",
   "metadata": {},
   "source": [
    "### Q35. Write a program to check if a given number is a perfect square.\n"
   ]
  },
  {
   "cell_type": "code",
   "execution_count": 42,
   "id": "347581b0",
   "metadata": {},
   "outputs": [
    {
     "name": "stdout",
     "output_type": "stream",
     "text": [
      "25 is a perfect square.\n"
     ]
    }
   ],
   "source": [
    "def is_perfect_square(num):\n",
    "    if num < 0:\n",
    "        return False\n",
    "\n",
    "    # Using Newton's method to approximate the square root\n",
    "    guess = num\n",
    "    while guess * guess > num:\n",
    "        guess = (guess + num // guess) // 2\n",
    "\n",
    "    return guess * guess == num\n",
    "\n",
    "# Example usage:\n",
    "number = 25\n",
    "is_square = is_perfect_square(number)\n",
    "if is_square:\n",
    "    print(number, \"is a perfect square.\")\n",
    "else:\n",
    "    print(number, \"is not a perfect square.\")\n",
    "\n",
    "    "
   ]
  },
  {
   "cell_type": "code",
   "execution_count": 43,
   "id": "bdba7de7",
   "metadata": {},
   "outputs": [
    {
     "name": "stdout",
     "output_type": "stream",
     "text": [
      "16 is a perfect square.\n"
     ]
    }
   ],
   "source": [
    "def is_perfect_square(num):\n",
    "    if num < 0:\n",
    "        return False\n",
    "\n",
    "    square_root = int(num ** 0.5)\n",
    "    return square_root * square_root == num\n",
    "\n",
    "# Example usage:\n",
    "number = 16\n",
    "is_square = is_perfect_square(number)\n",
    "if is_square:\n",
    "    print(number, \"is a perfect square.\")\n",
    "else:\n",
    "    print(number, \"is not a perfect square.\")\n"
   ]
  },
  {
   "cell_type": "markdown",
   "id": "fc2720e4",
   "metadata": {},
   "source": [
    "### Q36. Implement a function to calculate the product of all elements in a list.\n"
   ]
  },
  {
   "cell_type": "code",
   "execution_count": 44,
   "id": "af3c149a",
   "metadata": {},
   "outputs": [
    {
     "name": "stdout",
     "output_type": "stream",
     "text": [
      "Product of the numbers: 120\n"
     ]
    }
   ],
   "source": [
    "def calculate_product(numbers):\n",
    "    product = 1\n",
    "    for num in numbers:\n",
    "        product *= num\n",
    "    return product\n",
    "\n",
    "# Example usage:\n",
    "numbers_list = [2, 3, 4, 5]\n",
    "result = calculate_product(numbers_list)\n",
    "print(\"Product of the numbers:\", result)\n"
   ]
  },
  {
   "cell_type": "markdown",
   "id": "cdc0c062",
   "metadata": {},
   "source": [
    "### Q37. Write a Python program to reverse the order of words in a sentence while preserving the word order.\n"
   ]
  },
  {
   "cell_type": "code",
   "execution_count": 45,
   "id": "3db23425",
   "metadata": {},
   "outputs": [
    {
     "name": "stdout",
     "output_type": "stream",
     "text": [
      "Reversed sentence: today? you are how Hello,\n"
     ]
    }
   ],
   "source": [
    "def reverse_sentence(sentence):\n",
    "    words = sentence.split()\n",
    "    reversed_words = words[::-1]\n",
    "    reversed_sentence = \" \".join(reversed_words)\n",
    "    return reversed_sentence\n",
    "\n",
    "# Example usage:\n",
    "input_sentence = \"Hello, how are you today?\"\n",
    "reversed_sentence = reverse_sentence(input_sentence)\n",
    "print(\"Reversed sentence:\", reversed_sentence)\n"
   ]
  },
  {
   "cell_type": "markdown",
   "id": "3444bca6",
   "metadata": {},
   "source": [
    "### Q38. Implement a function to find the missing number in a given list of consecutive numbers.\n"
   ]
  },
  {
   "cell_type": "code",
   "execution_count": 46,
   "id": "a90edd88",
   "metadata": {},
   "outputs": [
    {
     "name": "stdout",
     "output_type": "stream",
     "text": [
      "Missing number: 3\n"
     ]
    }
   ],
   "source": [
    "def find_missing_number(numbers):\n",
    "    n = len(numbers) + 1\n",
    "    expected_sum = (n * (n + 1)) // 2\n",
    "    actual_sum = sum(numbers)\n",
    "    missing_number = expected_sum - actual_sum\n",
    "    return missing_number\n",
    "\n",
    "# Example usage:\n",
    "number_list = [1, 2, 4, 5, 6]\n",
    "missing_number = find_missing_number(number_list)\n",
    "print(\"Missing number:\", missing_number)\n"
   ]
  },
  {
   "cell_type": "markdown",
   "id": "eef4ecff",
   "metadata": {},
   "source": [
    "### Q39. Write a program to find the sum of digits of a given number.\n"
   ]
  },
  {
   "cell_type": "code",
   "execution_count": 47,
   "id": "c1e30c50",
   "metadata": {},
   "outputs": [
    {
     "name": "stdout",
     "output_type": "stream",
     "text": [
      "Sum of digits: 15\n"
     ]
    }
   ],
   "source": [
    "def sum_of_digits(number):\n",
    "    sum = 0\n",
    "    while number > 0:\n",
    "        digit = number % 10\n",
    "        sum += digit\n",
    "        number //= 10\n",
    "    return sum\n",
    "\n",
    "# Example usage:\n",
    "num = 12345\n",
    "digit_sum = sum_of_digits(num)\n",
    "print(\"Sum of digits:\", digit_sum)\n"
   ]
  },
  {
   "cell_type": "markdown",
   "id": "f925635f",
   "metadata": {},
   "source": [
    "### Q40. Implement a function to check if a given string is a valid palindrome considering case sensitivity.\n"
   ]
  },
  {
   "cell_type": "code",
   "execution_count": 48,
   "id": "922a9a6d",
   "metadata": {},
   "outputs": [
    {
     "name": "stdout",
     "output_type": "stream",
     "text": [
      "The string is not a valid palindrome.\n"
     ]
    }
   ],
   "source": [
    "def is_palindrome(string):\n",
    "    # Remove spaces and convert to lowercase\n",
    "    string = string.replace(\" \", \"\").lower()\n",
    "    \n",
    "    # Check if the string is equal to its reverse\n",
    "    return string == string[::-1]\n",
    "\n",
    "# Example usage:\n",
    "input_string = \"Madam Arora teaches malayalam\"\n",
    "if is_palindrome(input_string):\n",
    "    print(\"The string is a valid palindrome.\")\n",
    "else:\n",
    "    print(\"The string is not a valid palindrome.\")\n"
   ]
  },
  {
   "cell_type": "markdown",
   "id": "c5c862e0",
   "metadata": {},
   "source": [
    "### Q41. Write a Python program to find the smallest missing positive integer in a list.\n"
   ]
  },
  {
   "cell_type": "code",
   "execution_count": 49,
   "id": "0ad5be5a",
   "metadata": {},
   "outputs": [
    {
     "name": "stdout",
     "output_type": "stream",
     "text": [
      "Smallest missing positive integer: 2\n"
     ]
    }
   ],
   "source": [
    "def find_smallest_missing_positive(nums):\n",
    "    n = len(nums)\n",
    "    seen = set(nums)\n",
    "\n",
    "    # Check for the smallest missing positive integer\n",
    "    for i in range(1, n + 2):\n",
    "        if i not in seen:\n",
    "            return i\n",
    "\n",
    "# Example usage:\n",
    "number_list = [3, 4, -1, 1]\n",
    "smallest_missing = find_smallest_missing_positive(number_list)\n",
    "print(\"Smallest missing positive integer:\", smallest_missing)\n"
   ]
  },
  {
   "cell_type": "markdown",
   "id": "2d9a35b4",
   "metadata": {},
   "source": [
    "### Q42. Implement a function to find the longest palindrome substring in a given string.\n"
   ]
  },
  {
   "cell_type": "code",
   "execution_count": 50,
   "id": "ab9331bc",
   "metadata": {},
   "outputs": [],
   "source": [
    "def longest_palindrome_substring(string):\n",
    "    longest = ''\n",
    "    \n",
    "    for i in range(len(string)):\n",
    "        # Check for odd-length palindromes\n",
    "        left = right = i\n",
    "        while left >= 0 and right < len(string) and string[left] == string[right]:\n",
    "            left -= 1\n",
    "            right += 1\n",
    "        odd_palindrome = string[left+1:right]\n",
    "        \n",
    "        # Check for even-length palindromes\n",
    "        left = i\n",
    "        right = i + 1\n",
    "        while left >= 0 and right < len(string) and string[left] == string[right]:\n",
    "            left -= 1\n",
    "            right += 1\n",
    "        even_palindrome = string[left+1:right]\n",
    "        \n",
    "        # Update longest palindrome if necessary\n",
    "        if len(odd_palindrome) > len(longest):\n",
    "            longest = odd_palindrome\n",
    "        if len(even_palindrome) > len(longest):\n",
    "            longest = even_palindrome\n",
    "    \n",
    "    return longest\n"
   ]
  },
  {
   "cell_type": "markdown",
   "id": "51762043",
   "metadata": {},
   "source": [
    "### Q44. Implement a function to check if a given number is a perfect number.\n"
   ]
  },
  {
   "cell_type": "code",
   "execution_count": 51,
   "id": "b5c925ca",
   "metadata": {},
   "outputs": [
    {
     "name": "stdout",
     "output_type": "stream",
     "text": [
      "28 is a perfect number.\n"
     ]
    }
   ],
   "source": [
    "def is_perfect_number(number):\n",
    "    if number <= 0:\n",
    "        return False\n",
    "\n",
    "    divisors = []\n",
    "    for i in range(1, number):\n",
    "        if number % i == 0:\n",
    "            divisors.append(i)\n",
    "\n",
    "    if sum(divisors) == number:\n",
    "        return True\n",
    "    else:\n",
    "        return False\n",
    "number = 28\n",
    "if is_perfect_number(number):\n",
    "    print(number, \"is a perfect number.\")\n",
    "else:\n",
    "    print(number, \"is not a perfect number.\")\n"
   ]
  },
  {
   "cell_type": "markdown",
   "id": "01d285d9",
   "metadata": {},
   "source": [
    "### Q46. Implement a function to find the first missing positive\n"
   ]
  },
  {
   "cell_type": "code",
   "execution_count": 52,
   "id": "e4b2c8b2",
   "metadata": {},
   "outputs": [
    {
     "name": "stdout",
     "output_type": "stream",
     "text": [
      "first missing positive integer: 2\n"
     ]
    }
   ],
   "source": [
    "def find_first_missing_positive(nums):\n",
    "    n = len(nums)\n",
    "    seen = set(nums)\n",
    "\n",
    "    # Check for the smallest missing positive integer\n",
    "    for i in range(1, n + 2):\n",
    "        if i not in seen:\n",
    "            return i\n",
    "\n",
    "# Example usage:\n",
    "number_list = [3, 4, -1, 1]\n",
    "first_missing = find_first_missing_positive(number_list)\n",
    "print(\"first missing positive integer:\", first_missing)"
   ]
  },
  {
   "cell_type": "code",
   "execution_count": null,
   "id": "da0dd508",
   "metadata": {},
   "outputs": [],
   "source": []
  }
 ],
 "metadata": {
  "kernelspec": {
   "display_name": "Python 3 (ipykernel)",
   "language": "python",
   "name": "python3"
  },
  "language_info": {
   "codemirror_mode": {
    "name": "ipython",
    "version": 3
   },
   "file_extension": ".py",
   "mimetype": "text/x-python",
   "name": "python",
   "nbconvert_exporter": "python",
   "pygments_lexer": "ipython3",
   "version": "3.9.12"
  }
 },
 "nbformat": 4,
 "nbformat_minor": 5
}
