{
 "cells": [
  {
   "cell_type": "markdown",
   "id": "a811a1ab",
   "metadata": {},
   "source": [
    "## Question 1\n",
    "***Given an integer array nums of length n and an integer target, find three integers\n",
    "in nums such that the sum is closest to the target.\n",
    "Return the sum of the three integers.***\n",
    "\n",
    "**You may assume that each input would have exactly one solution.***\n",
    "\n",
    "**Example 1:\n",
    "Input: nums = [-1,2,1,-4], target = 1\n",
    "Output: 2***\n",
    "\n",
    "**Explanation: The sum that is closest to the target is 2. (-1 + 2 + 1 = 2).***"
   ]
  },
  {
   "cell_type": "code",
   "execution_count": 1,
   "id": "5efce876",
   "metadata": {},
   "outputs": [],
   "source": [
    "def threeSumClosest(nums, target):\n",
    "    nums = list(nums)\n",
    "    nums.sort()  \n",
    "    closest_sum = float('inf')  \n",
    "    \n",
    "    for i in range(len(nums) - 2):\n",
    "        left = i + 1\n",
    "        right = len(nums) - 1\n",
    "\n",
    "        while left < right:\n",
    "            curr_sum = nums[i] + nums[left] + nums[right]\n",
    "            if curr_sum == target:\n",
    "                return curr_sum\n",
    "\n",
    "            if abs(curr_sum - target) < abs(closest_sum - target):\n",
    "                closest_sum = curr_sum\n",
    "\n",
    "            if curr_sum < target:\n",
    "                left += 1\n",
    "            else:\n",
    "                right -= 1\n",
    "\n",
    "    return closest_sum if closest_sum != float('inf') else 0"
   ]
  },
  {
   "cell_type": "code",
   "execution_count": 2,
   "id": "f9e2af1f",
   "metadata": {},
   "outputs": [
    {
     "data": {
      "text/plain": [
       "2"
      ]
     },
     "execution_count": 2,
     "metadata": {},
     "output_type": "execute_result"
    }
   ],
   "source": [
    "nums = [-1,2,1,-4]\n",
    "target = 1\n",
    "threeSumClosest(nums,target)"
   ]
  },
  {
   "cell_type": "code",
   "execution_count": 3,
   "id": "c40361ee",
   "metadata": {},
   "outputs": [
    {
     "data": {
      "text/plain": [
       "0"
      ]
     },
     "execution_count": 3,
     "metadata": {},
     "output_type": "execute_result"
    }
   ],
   "source": [
    "nums = [0,0,0],\n",
    "target = 1\n",
    "threeSumClosest(nums,target)"
   ]
  },
  {
   "cell_type": "markdown",
   "id": "a8060867",
   "metadata": {},
   "source": [
    "## Question 2\n",
    "***Given an array nums of n integers, return an array of all the unique quadruplets [nums[a], nums[b], nums[c], nums[d]] such that:***\n",
    "\n",
    "● 0 <= a, b, c, d < n\n",
    "\n",
    "● a, b, c, and d are distinct.\n",
    "\n",
    "● nums[a] + nums[b] + nums[c] + nums[d] == target\n",
    "\n",
    "You may return the answer in any order.\n",
    "\n",
    "Example 1:\n",
    "\n",
    "Input: nums = [1,0,-1,0,-2,2], target = 0\n",
    "\n",
    "Output: [[-2,-1,1,2],[-2,0,0,2],[-1,0,0,1]]"
   ]
  },
  {
   "cell_type": "code",
   "execution_count": 5,
   "id": "af0a1b97",
   "metadata": {},
   "outputs": [
    {
     "data": {
      "text/plain": [
       "[[-2, -1, 1, 2]]"
      ]
     },
     "execution_count": 5,
     "metadata": {},
     "output_type": "execute_result"
    }
   ],
   "source": [
    "def fourSum(nums, target):\n",
    "    nums.sort()  \n",
    "    quad = []\n",
    "\n",
    "    for i in range(len(nums) - 3):\n",
    "        if i > 0 and nums[i] == nums[i - 1]:\n",
    "            continue\n",
    "            \n",
    "        for j in range(i + 1, len(nums) - 2):\n",
    "            if j > i + 1 and nums[j] == nums[j - 1]:\n",
    "                continue  \n",
    "\n",
    "            left = j + 1\n",
    "            right = len(nums) - 1\n",
    "\n",
    "            while left < right:\n",
    "                total = nums[i] + nums[j] + nums[left] + nums[right]\n",
    "                if total < target:\n",
    "                    left += 1\n",
    "                elif total > target:\n",
    "                    right -= 1\n",
    "                else:\n",
    "                    quad.append([nums[i], nums[j], nums[left], nums[right]])\n",
    "\n",
    "                    while left < right and nums[left] == nums[left + 1]:\n",
    "                        left += 1  \n",
    "                    while left < right and nums[right] == nums[right - 1]:\n",
    "                        right -= 1 \n",
    "\n",
    "                    left += 1\n",
    "                    right -= 1\n",
    "                    return quad\n",
    "nums = [1,0,-1,0,-2,2]\n",
    "target = 0\n",
    "fourSum(nums, target)"
   ]
  },
  {
   "cell_type": "markdown",
   "id": "ec8902a8",
   "metadata": {},
   "source": [
    "## Question 3\n",
    "***A permutation of an array of integers is an arrangement of its members into a sequence or linear order.***\n",
    "\n",
    "● For example, for arr = [1,2,3], the following are all the permutations of arr: [1,2,3], [1,3,2], [2, 1, 3], [2, 3, 1], [3,1,2], [3,2,1].\n",
    "\n",
    "The next permutation of an array of integers is the next lexicographically greater permutation of its integer. More formally, if all the permutations of the array are sorted in one container according to their lexicographical order, then the next permutation of that array is the permutation that follows it in the sorted container.\n",
    "\n",
    "If such an arrangement is not possible, the array must be rearranged as the lowest possible order (i.e., sorted in ascending order).\n",
    "\n",
    "● For example, the next permutation of arr = [1,2,3] is [1,3,2].\n",
    "\n",
    "● Similarly, the next permutation of arr = [2,3,1] is [3,1,2].\n",
    "\n",
    "● While the next permutation of arr = [3,2,1] is [1,2,3] because [3,2,1] does not have a lexicographical larger rearrangement.\n",
    "\n",
    "Given an array of integers nums, find the next permutation of nums.\n",
    "\n",
    "The replacement must be in place and use only constant extra memory.\n",
    "\n",
    "Example 1:\n",
    "\n",
    "Input: nums = [1,2,3]\n",
    "\n",
    "Output: [1,3,2]"
   ]
  },
  {
   "cell_type": "code",
   "execution_count": 6,
   "id": "fc44d4f9",
   "metadata": {},
   "outputs": [
    {
     "name": "stdout",
     "output_type": "stream",
     "text": [
      "[1, 3, 2]\n"
     ]
    }
   ],
   "source": [
    "def nextPermutation(nums):\n",
    "    n = len(nums)\n",
    "    i = n - 2\n",
    "\n",
    "    while i >= 0 and nums[i] >= nums[i+1]:\n",
    "        i -= 1\n",
    "\n",
    "    if i >= 0:\n",
    "        j = n - 1\n",
    "        while j > i and nums[j] <= nums[i]:\n",
    "            j -= 1\n",
    "        nums[i], nums[j] = nums[j], nums[i]\n",
    "\n",
    "    left = i + 1\n",
    "    right = n - 1\n",
    "    while left < right:\n",
    "        nums[left], nums[right] = nums[right], nums[left]\n",
    "        left += 1\n",
    "        right -= 1\n",
    "nums = [1, 2, 3]\n",
    "nextPermutation(nums)\n",
    "print(nums) "
   ]
  },
  {
   "cell_type": "markdown",
   "id": "00fd0e5c",
   "metadata": {},
   "source": [
    "## Question 4\n",
    "***Given a sorted array of distinct integers and a target value, return the index if the target is found. If not, return the index where it would be if it were inserted in order.***\n",
    "\n",
    "You must write an algorithm with O(log n) runtime complexity.\n",
    "\n",
    "Example 1:\n",
    "\n",
    "Input: nums = [1,3,5,6], target = 5\n",
    "\n",
    "Output: 2"
   ]
  },
  {
   "cell_type": "code",
   "execution_count": 7,
   "id": "3c2287f1",
   "metadata": {},
   "outputs": [
    {
     "name": "stdout",
     "output_type": "stream",
     "text": [
      "6\n"
     ]
    }
   ],
   "source": [
    "def find_target(arr, target):\n",
    "    if target in arr:\n",
    "        return arr.index(target)\n",
    "    else:\n",
    "        arr.append(target)\n",
    "        arr.sort()\n",
    "        return arr.index(target)\n",
    "arr = [1,3,5,4,5,8,9,11,9]\n",
    "target = 9\n",
    "print(find_target(arr, target))"
   ]
  },
  {
   "cell_type": "markdown",
   "id": "a900ffb0",
   "metadata": {},
   "source": [
    "## Question 5\n",
    "***You are given a large integer represented as an integer array digits, where each digits[i] is the ith digit of the integer. The digits are ordered from most significant to least significant in left-to-right order. The large integer does not contain any leading 0's.***\n",
    "\n",
    "Increment the large integer by one and return the resulting array of digits.\n",
    "\n",
    "Example 1:\n",
    "\n",
    "Input: digits = [1,2,3]\n",
    "\n",
    "Output: [1,2,4]\n",
    "\n",
    "Explanation: The array represents the integer 123.\n",
    "\n",
    "Incrementing by one gives 123 + 1 = 124.\n",
    "\n",
    "Thus, the result should be [1,2,4]."
   ]
  },
  {
   "cell_type": "code",
   "execution_count": 8,
   "id": "ca2cc85b",
   "metadata": {},
   "outputs": [
    {
     "data": {
      "text/plain": [
       "[1, 2, 4]"
      ]
     },
     "execution_count": 8,
     "metadata": {},
     "output_type": "execute_result"
    }
   ],
   "source": [
    "def digitsPlusOne(arr):\n",
    "    l=len(arr)-1\n",
    "    n=0\n",
    "    for i in arr:\n",
    "        n=n+(10**l)*i\n",
    "        l-=1\n",
    "    n+=1\n",
    "    return [int(d) for d in str(n)]\n",
    "arr=[1,2,3]\n",
    "digitsPlusOne(arr)"
   ]
  },
  {
   "cell_type": "markdown",
   "id": "8310de68",
   "metadata": {},
   "source": [
    "## Question 6\n",
    "***Given a non-empty array of integers nums, every element appears twice except for one. Find that single one.***\n",
    "\n",
    "You must implement a solution with a linear runtime complexity and use only constant extra space.\n",
    "\n",
    "Example 1:\n",
    "\n",
    "Input: nums = [2,2,1]\n",
    "\n",
    "Output: 1"
   ]
  },
  {
   "cell_type": "code",
   "execution_count": 10,
   "id": "892345fe",
   "metadata": {},
   "outputs": [
    {
     "name": "stdout",
     "output_type": "stream",
     "text": [
      "3\n"
     ]
    },
    {
     "data": {
      "text/plain": [
       "1"
      ]
     },
     "execution_count": 10,
     "metadata": {},
     "output_type": "execute_result"
    }
   ],
   "source": [
    "nums = [1,2,2,1,3,4,5,5,4]\n",
    "for i in nums:\n",
    "    if nums.count(i) == 1:\n",
    "        print(i)\n",
    "3\n",
    "def find_single_num(nums):\n",
    "    for num in nums:\n",
    "        if nums.count(num) == 1:\n",
    "            return num\n",
    "nums = [1,2,2,1,3,4,5,5,4]\n",
    "find_single_num(nums)\n",
    "\n",
    "nums = [2,2,1]\n",
    "find_single_num(nums)"
   ]
  },
  {
   "cell_type": "markdown",
   "id": "27eae1cf",
   "metadata": {},
   "source": [
    "## Question 7\n",
    "***You are given an inclusive range [lower, upper] and a sorted unique integer array nums, where all elements are within the inclusive range.***\n",
    "\n",
    "A number x is considered missing if x is in the range [lower, upper] and x is not in nums.\n",
    "\n",
    "Return the shortest sorted list of ranges that exactly covers all the missing numbers. That is, no element of nums is included in any of the ranges, and each missing number is covered by one of the ranges.\n",
    "\n",
    "Example 1:\n",
    "\n",
    "Input: nums = [0,1,3,50,75], lower = 0, upper = 99\n",
    "\n",
    "Output: [[2,2],[4,49],[51,74],[76,99]]\n",
    "\n",
    "Explanation: The ranges are:\n",
    "\n",
    "[2,2]\n",
    "\n",
    "[4,49]\n",
    "\n",
    "[51,74]\n",
    "\n",
    "[76,99]"
   ]
  },
  {
   "cell_type": "code",
   "execution_count": 13,
   "id": "f9ac2b08",
   "metadata": {},
   "outputs": [
    {
     "name": "stdout",
     "output_type": "stream",
     "text": [
      "[[2, 2], [4, 49], [51, 74], [76, 99]]\n"
     ]
    }
   ],
   "source": [
    "def MissingRanges(nums, lower, upper):\n",
    "    result = []\n",
    "    def addRange(start, end):\n",
    "        result.append([start, end])\n",
    "        \n",
    "    prev = lower - 1 \n",
    "    for num in nums + [upper + 1]:\n",
    "        if prev + 1 <= num - 1:\n",
    "            addRange(prev + 1, num - 1)\n",
    "        prev = num\n",
    "\n",
    "    return result\n",
    "nums = [0, 1, 3, 50, 75]\n",
    "lower = 0\n",
    "upper = 99\n",
    "print(MissingRanges(nums, lower, upper))"
   ]
  },
  {
   "cell_type": "markdown",
   "id": "e6dbc4ed",
   "metadata": {},
   "source": [
    "## Question 8\n",
    "***Given an array of meeting time intervals where intervals[i] = [starti, endi], determine if a person could attend all meetings.***\n",
    "\n",
    "Example 1:\n",
    "\n",
    "Input: intervals = [[0,30],[5,10],[15,20]]\n",
    "\n",
    "Output: false"
   ]
  },
  {
   "cell_type": "code",
   "execution_count": 14,
   "id": "84892ef4",
   "metadata": {},
   "outputs": [
    {
     "name": "stdout",
     "output_type": "stream",
     "text": [
      "False\n"
     ]
    }
   ],
   "source": [
    "def canAttendMeetings(intervals):\n",
    "    # Sort the intervals based on start time\n",
    "    intervals.sort(key=lambda x: x[0])\n",
    "    # Check for overlaps\n",
    "    for i in range(len(intervals) - 1):\n",
    "        if intervals[i][1] > intervals[i + 1][0]:\n",
    "            return False\n",
    "    return True\n",
    "intervals = [[0, 30], [5, 10], [15, 20]]\n",
    "print(canAttendMeetings(intervals))"
   ]
  },
  {
   "cell_type": "code",
   "execution_count": null,
   "id": "1aeb18bd",
   "metadata": {},
   "outputs": [],
   "source": []
  }
 ],
 "metadata": {
  "kernelspec": {
   "display_name": "Python 3 (ipykernel)",
   "language": "python",
   "name": "python3"
  },
  "language_info": {
   "codemirror_mode": {
    "name": "ipython",
    "version": 3
   },
   "file_extension": ".py",
   "mimetype": "text/x-python",
   "name": "python",
   "nbconvert_exporter": "python",
   "pygments_lexer": "ipython3",
   "version": "3.9.12"
  }
 },
 "nbformat": 4,
 "nbformat_minor": 5
}
