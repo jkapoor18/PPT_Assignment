{
 "cells": [
  {
   "cell_type": "markdown",
   "id": "c182aaec",
   "metadata": {},
   "source": [
    "## Question 1\n",
    "\n",
    "### Given a string `s`, *find the first non-repeating character in it and return its index*. If it does not exist, return `-1`.\n"
   ]
  },
  {
   "cell_type": "code",
   "execution_count": 1,
   "id": "3d788715",
   "metadata": {},
   "outputs": [
    {
     "name": "stdout",
     "output_type": "stream",
     "text": [
      "First non-repeating character is f\n"
     ]
    }
   ],
   "source": [
    "string = \"geeksforgeeks\"\n",
    "index = -1\n",
    "fnc = \"\"\n",
    " \n",
    "if len(string) == 0 :\n",
    "    print(\"EMTPY STRING\")\n",
    "    \n",
    "for i in string:\n",
    "    if string.count(i) == 1:\n",
    "        fnc += i\n",
    "        break\n",
    "    else:\n",
    "        index += 1\n",
    "if index == len(string)-1 :\n",
    "    print(\"All characters are repeating \")\n",
    "else:\n",
    "    print(\"First non-repeating character is\", fnc)"
   ]
  },
  {
   "cell_type": "markdown",
   "id": "2de2ca47",
   "metadata": {},
   "source": [
    "## Question 2\n",
    "\n",
    "### Given a **circular integer array** `nums` of length `n`, return *the maximum possible sum of a non-empty **subarray** of* `nums`.\n",
    "\n",
    "### A **circular array** means the end of the array connects to the beginning of the array. Formally, the next element of `nums[i]` is `nums[(i + 1) % n]` and the previous element of `nums[i]` is `nums[(i - 1 + n) % n]`.\n",
    "\n",
    "### A **subarray** may only include each element of the fixed buffer `nums` at most once. Formally, for a subarray `nums[i], nums[i + 1], ..., nums[j]`, there does not exist `i <= k1`, `k2 <= j` with `k1 % n == k2 % n`.\n"
   ]
  },
  {
   "cell_type": "code",
   "execution_count": 3,
   "id": "29b3981d",
   "metadata": {},
   "outputs": [
    {
     "name": "stdout",
     "output_type": "stream",
     "text": [
      "Maximum circular sum is 3\n"
     ]
    }
   ],
   "source": [
    "def maxCircularSum(a, n):\n",
    "     \n",
    "    # Corner Case\n",
    "    if (n == 1):\n",
    "        return a[0]\n",
    " \n",
    "    sum = 0\n",
    "    for i in range(n):\n",
    "        sum += a[i]\n",
    " \n",
    "    curr_max = a[0]\n",
    "    max_so_far = a[0]\n",
    "    curr_min = a[0]\n",
    "    min_so_far = a[0]\n",
    " \n",
    "    for i in range(1, n):\n",
    "       \n",
    "        curr_max = max(curr_max + a[i], a[i])\n",
    "        max_so_far = max(max_so_far, curr_max)\n",
    " \n",
    "        curr_min = min(curr_min + a[i], a[i])\n",
    "        min_so_far = min(min_so_far, curr_min)\n",
    "    if (min_so_far == sum):\n",
    "        return max_so_far\n",
    " \n",
    "    return max(max_so_far, sum - min_so_far)\n",
    " \n",
    "# Driver code\n",
    "a = [1,-2,3,-2]\n",
    "n = len(a)\n",
    "print(\"Maximum circular sum is\", maxCircularSum(a, n))"
   ]
  },
  {
   "cell_type": "markdown",
   "id": "d2ae5bbf",
   "metadata": {},
   "source": [
    "## Question 3\n",
    "\n",
    "### The school cafeteria offers circular and square sandwiches at lunch break, referred to by numbers `0` and `1` respectively. All students stand in a queue. Each student either prefers square or circular sandwiches.\n",
    "\n",
    "### The number of sandwiches in the cafeteria is equal to the number of students. The sandwiches are placed in a **stack**. At each step:\n",
    "\n",
    "- If the student at the front of the queue **prefers** the sandwich on the top of the stack, they will **take it** and leave the queue.\n",
    "- Otherwise, they will **leave it** and go to the queue's end.\n",
    "\n",
    "### This continues until none of the queue students want to take the top sandwich and are thus unable to eat.\n",
    "\n",
    "### You are given two integer arrays `students` and `sandwiches` where `sandwiches[i]` is the type of the `ith` sandwich in the stack (`i = 0` is the top of the stack) and `students[j]` is the preference of the `jth` student in the initial queue (`j = 0` is the front of the queue). Return *the number of students that are unable to eat.*\n"
   ]
  },
  {
   "cell_type": "code",
   "execution_count": 7,
   "id": "c30099b6",
   "metadata": {},
   "outputs": [
    {
     "data": {
      "text/plain": [
       "0"
      ]
     },
     "execution_count": 7,
     "metadata": {},
     "output_type": "execute_result"
    }
   ],
   "source": [
    "from collections import Counter\n",
    "\n",
    "\n",
    "class Solution:\n",
    "    def countStudents(self, students, sandwiches) -> int:\n",
    "        cnt = Counter(students)\n",
    "        for v in sandwiches:\n",
    "            if cnt[v] == 0:\n",
    "                return cnt[v ^ 1]\n",
    "            cnt[v] -= 1\n",
    "        return 0\n",
    "\n",
    "students = [1,1,0,0]\n",
    "sandwiches = [0,1,0,1]\n",
    "\n",
    "s = Solution()\n",
    "s.countStudents(students,sandwiches)"
   ]
  },
  {
   "cell_type": "markdown",
   "id": "e1281be9",
   "metadata": {},
   "source": [
    "## Question 4\n",
    "\n",
    "### You have a `RecentCounter` class which counts the number of recent requests within a certain time frame.\n",
    "\n",
    "### Implement the `RecentCounter` class:\n",
    "\n",
    "- `RecentCounter()` Initializes the counter with zero recent requests.\n",
    "- `int ping(int t)` Adds a new request at time `t`, where `t` represents some time in milliseconds, and returns the number of requests that has happened in the past `3000` milliseconds (including the new request). Specifically, return the number of requests that have happened in the inclusive range `[t - 3000, t]`.\n",
    "\n",
    "### It is **guaranteed** that every call to `ping` uses a strictly larger value of `t` than the previous call.\n"
   ]
  },
  {
   "cell_type": "code",
   "execution_count": 9,
   "id": "cbe0186a",
   "metadata": {},
   "outputs": [
    {
     "data": {
      "text/plain": [
       "1"
      ]
     },
     "execution_count": 9,
     "metadata": {},
     "output_type": "execute_result"
    }
   ],
   "source": [
    "from collections import deque\n",
    "\n",
    "class RecentCounter:\n",
    "    def __init__(self):\n",
    "        self.q = deque()\n",
    "\n",
    "    def ping(self, t: int) -> int:\n",
    "        self.q.append(t)\n",
    "        while self.q[0] < t - 3000:\n",
    "            self.q.popleft()\n",
    "        return len(self.q)\n",
    "\n",
    "\n",
    "obj = RecentCounter()\n",
    "param_1 = obj.ping(1)\n",
    "param_1"
   ]
  },
  {
   "cell_type": "markdown",
   "id": "7bd5fe60",
   "metadata": {},
   "source": [
    "## Question 5\n",
    "\n",
    "### There are `n` friends that are playing a game. The friends are sitting in a circle and are numbered from `1` to `n` in **clockwise order**. More formally, moving clockwise from the `ith` friend brings you to the `(i+1)th` friend for `1 <= i < n`, and moving clockwise from the `nth` friend brings you to the `1st` friend.\n"
   ]
  },
  {
   "cell_type": "code",
   "execution_count": 11,
   "id": "6d6d3a11",
   "metadata": {},
   "outputs": [
    {
     "data": {
      "text/plain": [
       "3"
      ]
     },
     "execution_count": 11,
     "metadata": {},
     "output_type": "execute_result"
    }
   ],
   "source": [
    "class Solution:\n",
    "    def findTheWinner(self, n: int, k: int) -> int:\n",
    "        if n == 1:\n",
    "            return 1\n",
    "        ans = (k + self.findTheWinner(n - 1, k)) % n\n",
    "        return n if ans == 0 else ans\n",
    "    \n",
    "n = 5\n",
    "k = 2\n",
    "s = Solution()\n",
    "s.findTheWinner(n,k)"
   ]
  },
  {
   "cell_type": "markdown",
   "id": "5d85a37d",
   "metadata": {},
   "source": [
    "## Question 6\n",
    "\n",
    "### You are given an integer array `deck`. There is a deck of cards where every card has a unique integer. The integer on the `ith` card is `deck[i]`.You can order the deck in any order you want. Initially, all the cards start face down (unrevealed) in one deck\n"
   ]
  },
  {
   "cell_type": "code",
   "execution_count": 14,
   "id": "5f8b4f9c",
   "metadata": {},
   "outputs": [
    {
     "data": {
      "text/plain": [
       "[2, 13, 3, 11, 5, 17, 7]"
      ]
     },
     "execution_count": 14,
     "metadata": {},
     "output_type": "execute_result"
    }
   ],
   "source": [
    "from collections import deque\n",
    "\n",
    "class Solution:\n",
    "    def deckRevealedIncreasing(self, deck):\n",
    "        q = deque()\n",
    "        for v in sorted(deck, reverse=True):\n",
    "            if q:\n",
    "                q.appendleft(q.pop())\n",
    "            q.appendleft(v)\n",
    "        return list(q)\n",
    "\n",
    "deck = [17,13,11,2,3,5,7]\n",
    "s = Solution()\n",
    "s.deckRevealedIncreasing(deck)"
   ]
  },
  {
   "cell_type": "markdown",
   "id": "aa3209be",
   "metadata": {},
   "source": [
    "## Question 7\n",
    "\n",
    "### Design a queue that supports `push` and `pop` operations in the front, middle, and back.\n",
    "\n",
    "### Implement the `FrontMiddleBack` class:\n",
    "\n",
    "- `FrontMiddleBack()` Initializes the queue.\n",
    "- `void pushFront(int val)` Adds `val` to the **front** of the queue.\n",
    "- `void pushMiddle(int val)` Adds `val` to the **middle** of the queue.\n",
    "- `void pushBack(int val)` Adds `val` to the **back** of the queue.\n",
    "- `int popFront()` Removes the **front** element of the queue and returns it. If the queue is empty, return `1`.\n",
    "- `int popMiddle()` Removes the **middle** element of the queue and returns it. If the queue is empty, return `1`.\n",
    "- `int popBack()` Removes the **back** element of the queue and returns it. If the queue is empty, return `1`.\n",
    "\n",
    "### Notice** that when there are **two** middle position choices, the operation is performed on the **frontmost** middle position choice. For example:\n",
    "\n",
    "- Pushing `6` into the middle of `[1, 2, 3, 4, 5]` results in `[1, 2, 6, 3, 4, 5]`.\n",
    "- Popping the middle from `[1, 2, 3, 4, 5, 6]` returns `3` and results in `[1, 2, 4, 5, 6]`.\n",
    "\n",
    "### Example 1:\n",
    "\n",
    "```\n",
    "Input:\n",
    "[\"FrontMiddleBackQueue\", \"pushFront\", \"pushBack\", \"pushMiddle\", \"pushMiddle\", \"popFront\", \"popMiddle\", \"popMiddle\", \"popBack\", \"popFront\"]\n",
    "[[], [1], [2], [3], [4], [], [], [], [], []]\n",
    "Output:\n",
    "[null, null, null, null, null, 1, 3, 4, 2, -1]\n",
    "\n",
    "Explanation:\n",
    "FrontMiddleBackQueue q = new FrontMiddleBackQueue();\n",
    "q.pushFront(1);   // [1]\n",
    "q.pushBack(2);    // [1,2]\n",
    "q.pushMiddle(3);  // [1,3, 2]\n",
    "q.pushMiddle(4);  // [1,4, 3, 2]\n",
    "q.popFront();     // return 1 -> [4, 3, 2]\n",
    "q.popMiddle();    // return 3 -> [4, 2]\n",
    "q.popMiddle();    // return 4 -> [2]\n",
    "q.popBack();      // return 2 -> []\n",
    "q.popFront();     // return -1 -> [] (The queue is empty)\n",
    "```"
   ]
  },
  {
   "cell_type": "code",
   "execution_count": 17,
   "id": "9b7dab96",
   "metadata": {},
   "outputs": [
    {
     "name": "stdout",
     "output_type": "stream",
     "text": [
      "2\n",
      "1\n",
      "3\n"
     ]
    }
   ],
   "source": [
    "class FrontMiddleBackQueue:\n",
    "    def __init__(self):\n",
    "        self.q1 = deque()\n",
    "        self.q2 = deque()\n",
    "\n",
    "    def pushFront(self, val: int) -> None:\n",
    "        self.q1.appendleft(val)\n",
    "        self.rebalance()\n",
    "\n",
    "    def pushMiddle(self, val: int) -> None:\n",
    "        self.q1.append(val)\n",
    "        self.rebalance()\n",
    "\n",
    "    def pushBack(self, val: int) -> None:\n",
    "        self.q2.append(val)\n",
    "        self.rebalance()\n",
    "\n",
    "    def popFront(self) -> int:\n",
    "        if not self.q1 and not self.q2:\n",
    "            return -1\n",
    "        if self.q1:\n",
    "            val = self.q1.popleft()\n",
    "        else:\n",
    "            val = self.q2.popleft()\n",
    "        self.rebalance()\n",
    "        return val\n",
    "\n",
    "    def popMiddle(self) -> int:\n",
    "        if not self.q1 and not self.q2:\n",
    "            return -1\n",
    "        if len(self.q1) == len(self.q2):\n",
    "            val = self.q1.pop()\n",
    "        else:\n",
    "            val = self.q2.popleft()\n",
    "        self.rebalance()\n",
    "        return val\n",
    "\n",
    "    def popBack(self) -> int:\n",
    "        if not self.q2:\n",
    "            return -1\n",
    "        val = self.q2.pop()\n",
    "        self.rebalance()\n",
    "        return val\n",
    "\n",
    "    def rebalance(self):\n",
    "        if len(self.q1) > len(self.q2):\n",
    "            self.q2.appendleft(self.q1.pop())\n",
    "        if len(self.q2) > len(self.q1) + 1:\n",
    "            self.q1.append(self.q2.popleft())\n",
    "\n",
    "\n",
    "obj = FrontMiddleBackQueue()\n",
    "obj.pushFront(1)\n",
    "obj.pushMiddle(2)\n",
    "obj.pushBack(3)\n",
    "param_4 = obj.popFront()\n",
    "param_5 = obj.popMiddle()\n",
    "param_6 = obj.popBack()\n",
    "print(param_4)\n",
    "print(param_5)\n",
    "print(param_6)"
   ]
  },
  {
   "cell_type": "markdown",
   "id": "c265bac6",
   "metadata": {},
   "source": [
    "## Question 8\n",
    "\n",
    "### For a stream of integers, implement a data structure that checks if the last `k` integers parsed in the stream are **equal** to `value`.\n",
    "\n",
    "### Implement the **DataStream** class:\n",
    "\n",
    "- `DataStream(int value, int k)` Initializes the object with an empty integer stream and the two integers `value` and `k`.\n",
    "- `boolean consec(int num)` Adds `num` to the stream of integers. Returns `true` if the last `k` integers are equal to `value`, and `false` otherwise. If there are less than `k` integers, the condition does not hold true, so returns `false`.\n"
   ]
  },
  {
   "cell_type": "code",
   "execution_count": 18,
   "id": "cb838837",
   "metadata": {},
   "outputs": [
    {
     "name": "stdout",
     "output_type": "stream",
     "text": [
      "Rank of 4 in stream is: 3\n",
      "Rank of 13 in stream is: 8\n",
      "Rank of 8 in stream is: -1\n"
     ]
    }
   ],
   "source": [
    "class newNode:\n",
    "    def __init__(self, data):\n",
    "        self.data = data\n",
    "        self.left = self.right = None\n",
    "        self.leftSize = 0\n",
    "\n",
    "# Inserting a new Node.\n",
    "def insert(root, data):\n",
    "    if root is None:\n",
    "        return newNode(data)\n",
    " \n",
    "    # Updating size of left subtree.\n",
    "    if data <= root.data:\n",
    "        root.left = insert(root.left, data)\n",
    "        root.leftSize += 1\n",
    "    else:\n",
    "        root.right = insert(root.right, data)\n",
    "    return root\n",
    " \n",
    "# Function to get Rank of a Node x.\n",
    "def getRank(root, x):\n",
    "     \n",
    "    # Step 1.\n",
    "    if root.data == x:\n",
    "        return root.leftSize\n",
    " \n",
    "    # Step 2.\n",
    "    if x < root.data:\n",
    "        if root.left is None:\n",
    "            return -1\n",
    "        else:\n",
    "            return getRank(root.left, x)\n",
    " \n",
    "    # Step 3.\n",
    "    else:\n",
    "        if root.right is None:\n",
    "            return -1\n",
    "        else:\n",
    "            rightSize = getRank(root.right, x)\n",
    "            if rightSize == -1:\n",
    "                # x not found in right sub tree, i.e. not found in stream\n",
    "                return -1\n",
    "            else:\n",
    "                return root.leftSize + 1 + rightSize\n",
    "\n",
    "# Driver code\n",
    "if __name__ == '__main__':\n",
    "    arr = [5, 1, 4, 4, 5, 9, 7, 13, 3]\n",
    "    n = len(arr)\n",
    "    x = 4\n",
    " \n",
    "    root = None\n",
    "    for i in range(n):\n",
    "        root = insert(root, arr[i])\n",
    " \n",
    "    print(\"Rank of\", x, \"in stream is:\",\n",
    "                       getRank(root, x))\n",
    "    x = 13\n",
    "    print(\"Rank of\", x, \"in stream is:\",\n",
    "                       getRank(root, x))\n",
    "    x = 8\n",
    "    print(\"Rank of\", x, \"in stream is:\",\n",
    "                       getRank(root, x))"
   ]
  },
  {
   "cell_type": "code",
   "execution_count": null,
   "id": "ae7dc994",
   "metadata": {},
   "outputs": [],
   "source": []
  }
 ],
 "metadata": {
  "kernelspec": {
   "display_name": "Python 3 (ipykernel)",
   "language": "python",
   "name": "python3"
  },
  "language_info": {
   "codemirror_mode": {
    "name": "ipython",
    "version": 3
   },
   "file_extension": ".py",
   "mimetype": "text/x-python",
   "name": "python",
   "nbconvert_exporter": "python",
   "pygments_lexer": "ipython3",
   "version": "3.10.9"
  }
 },
 "nbformat": 4,
 "nbformat_minor": 5
}
